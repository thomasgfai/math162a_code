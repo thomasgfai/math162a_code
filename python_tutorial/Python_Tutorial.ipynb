{
 "cells": [
  {
   "cell_type": "markdown",
   "metadata": {},
   "source": [
    "# Python Tutorial\n",
    "\n",
    "## adapted from tutorial by Jordan Hoffmann  and Raphaël Pestourie\n",
    "---\n",
    "##Why Python?\n",
    "- Unlike MATLAB or Mathematica, Python is free and comes preinstalled on all Macs as well as most Linux boxes.\n",
    "- You may be interested in Anaconda which has installers for Windows, Mac, as well as Linux. It contains all commonly used packages for scientific computing as well as a few extras. It can be downloaded at:\n",
    "http://continuum.io/downloads\n",
    "- Python is easy to use. It is an interpreted language, so unlike C/C++, you do not need to compile your code.\n",
    "- There is active development of Python packages in the scientific community and many C/C++ packages are also available for Python. For example: PyCuda, MPI4Py, PyOpenCL."
   ]
  },
  {
   "cell_type": "markdown",
   "metadata": {},
   "source": [
    "Python 3! But some in-class examples will use Python version 2.7.9 (packaged with Anaconda). For more information, look at:\n",
    "https://wiki.python.org/moin/Python2orPython3"
   ]
  },
  {
   "cell_type": "markdown",
   "metadata": {},
   "source": [
    "##Python from the Terminal"
   ]
  },
  {
   "cell_type": "markdown",
   "metadata": {},
   "source": [
    "Let us begin by briefly running Python from the terminal. This is my preferred method for a few reasons that I'll mention below.\n",
    "\n",
    "##DEMO\n",
    "Brief demo on running Python programs from the terminal. This is useful if you download the demos that are uploaded to the course website. If you have any questions, feel free to email either of us!"
   ]
  },
  {
   "cell_type": "markdown",
   "metadata": {},
   "source": [
    "##IPython Environment\n",
    "You will probably encounter the IPython environment many times this year. Files such as this are called \"Notebooks.\" They are able to contain text, figures, as well at code. You can also convert an entire notebook to a .tex file that can easily be converted to a PDF. It nicely handles formatting figures, code, as well as text."
   ]
  },
  {
   "cell_type": "markdown",
   "metadata": {},
   "source": [
    "####BEWARE\n",
    "There are a few things to keep in mind when running IPython notebooks. \n",
    "\n",
    "- You can run code out of order! This means that when you get something that works, you won't always know exactly what order you ran it in.\n",
    "- You can delete cells without deleting the variables. This means that you might have a variable stored in memory that is not what you expect. It can also mean you won't notice when code you hand in that you \"tidied up\" breaks.\n",
    "- You can have two different functions with the same name and one is right, the other is wrong. You'll need to remember which one you ran."
   ]
  },
  {
   "cell_type": "markdown",
   "metadata": {},
   "source": [
    "The IPython notebook format definitely also has its perks: you can also take advantage of $\\LaTeX$- something especially useful for maths.\n",
    "\n",
    "Here is an equation:\n",
    "$$\n",
    "\\exp{i\\pi}=-1\n",
    "$$\n",
    "and here is a matrix:\n",
    "$$\\left(\n",
    "\\begin{array}{cc}\n",
    " a & b \\\\\n",
    " b & a \\\\\n",
    "\\end{array}\n",
    "\\right)\n",
    "$$\n",
    "If you have additional questions about $\\LaTeX$, you are welcome to stop by my office hours or email me.\n",
    "\n",
    "You can also create nice, self contained documents that work nicely for problem sets as well as math/programming related web pages. Some other courses actually require their use."
   ]
  },
  {
   "cell_type": "markdown",
   "metadata": {},
   "source": [
    "At the beginning of most Python files, you will see import statements. These import special functions from other packages for use in a Python script. "
   ]
  },
  {
   "cell_type": "code",
   "execution_count": 1,
   "metadata": {},
   "outputs": [],
   "source": [
    "#Numpy is a library with many math functions that you'd find in MATLAB or Mathematica\n",
    "import numpy as np\n",
    "# 'as np' is very common practice. It is shorter than numpy.\n",
    "import matplotlib.pyplot as plt\n",
    "# This is used for plotting. Again 'as plt' is common practice\n",
    "%matplotlib inline\n",
    "#This is something unique to the notebook enviornment for Python.\n",
    "#It results in figures being displayed in the notebook enviornment instead of a new window."
   ]
  },
  {
   "cell_type": "code",
   "execution_count": 2,
   "metadata": {},
   "outputs": [],
   "source": [
    "# Other common things you may see:\n",
    "# import math\n",
    "# from math import *\n",
    "# from math import sin\n",
    "# import seaborn as sns\n",
    "# import pandas as pd"
   ]
  },
  {
   "cell_type": "markdown",
   "metadata": {},
   "source": [
    "# NUMBERS AND PRINTING"
   ]
  },
  {
   "cell_type": "markdown",
   "metadata": {},
   "source": [
    "There are many different ways to print in Python, depending on the type of output that you are hoping for."
   ]
  },
  {
   "cell_type": "code",
   "execution_count": 3,
   "metadata": {
    "scrolled": true
   },
   "outputs": [
    {
     "name": "stdout",
     "output_type": "stream",
     "text": [
      "Welcome\n"
     ]
    }
   ],
   "source": [
    "print 'Welcome'"
   ]
  },
  {
   "cell_type": "code",
   "execution_count": 4,
   "metadata": {},
   "outputs": [],
   "source": [
    "a = 4\n",
    "b = 3"
   ]
  },
  {
   "cell_type": "code",
   "execution_count": 5,
   "metadata": {},
   "outputs": [
    {
     "name": "stdout",
     "output_type": "stream",
     "text": [
      "a+b= 7\n",
      "a*b= 12\n"
     ]
    }
   ],
   "source": [
    "print 'a+b=',a+b\n",
    "print 'a*b=',a*b"
   ]
  },
  {
   "cell_type": "markdown",
   "metadata": {},
   "source": [
    "It is worth remembering that the exponent operator is '**' instead of '^' (XOR)"
   ]
  },
  {
   "cell_type": "code",
   "execution_count": 6,
   "metadata": {},
   "outputs": [
    {
     "name": "stdout",
     "output_type": "stream",
     "text": [
      "9.18958683998\n"
     ]
    }
   ],
   "source": [
    "print 2.0**3.2"
   ]
  },
  {
   "cell_type": "code",
   "execution_count": 7,
   "metadata": {},
   "outputs": [
    {
     "name": "stdout",
     "output_type": "stream",
     "text": [
      "9.18958683998\n"
     ]
    }
   ],
   "source": [
    "print pow(2.0,3.2)"
   ]
  },
  {
   "cell_type": "markdown",
   "metadata": {},
   "source": [
    "What about log?"
   ]
  },
  {
   "cell_type": "code",
   "execution_count": 9,
   "metadata": {},
   "outputs": [
    {
     "data": {
      "text/plain": [
       "1.1939224684724346"
      ]
     },
     "execution_count": 9,
     "metadata": {},
     "output_type": "execute_result"
    }
   ],
   "source": [
    "#log(3.3) ##DOES NOT WORK\n",
    "np.log(3.3)"
   ]
  },
  {
   "cell_type": "code",
   "execution_count": 10,
   "metadata": {},
   "outputs": [],
   "source": [
    "import math"
   ]
  },
  {
   "cell_type": "code",
   "execution_count": 11,
   "metadata": {},
   "outputs": [
    {
     "data": {
      "text/plain": [
       "1.1939224684724346"
      ]
     },
     "execution_count": 11,
     "metadata": {},
     "output_type": "execute_result"
    }
   ],
   "source": [
    "math.log(3.3)"
   ]
  },
  {
   "cell_type": "code",
   "execution_count": 12,
   "metadata": {},
   "outputs": [
    {
     "name": "stdout",
     "output_type": "stream",
     "text": [
      "a/b=4/3=1\n",
      "a/b=4/3= 1\n"
     ]
    }
   ],
   "source": [
    "print 'a/b={0}/{1}={2}'.format(a, b,a/b)\n",
    "print 'a/b='+str(a)+'/'+str(b)+'=',a/b"
   ]
  },
  {
   "cell_type": "code",
   "execution_count": 13,
   "metadata": {},
   "outputs": [],
   "source": [
    "a2 = 4.0\n",
    "b2 = 3.0"
   ]
  },
  {
   "cell_type": "code",
   "execution_count": 14,
   "metadata": {},
   "outputs": [
    {
     "name": "stdout",
     "output_type": "stream",
     "text": [
      "a2/b2=4.0/3.0=1.33333333333\n",
      "a2/b2=4.0/3.0= 1.33333333333\n"
     ]
    }
   ],
   "source": [
    "print 'a2/b2={0}/{1}={2}'.format(a2, b2,a2/b2)\n",
    "print 'a2/b2='+str(a2)+'/'+str(b2)+'=',a2/b2"
   ]
  },
  {
   "cell_type": "code",
   "execution_count": 15,
   "metadata": {},
   "outputs": [],
   "source": [
    "pi = np.pi"
   ]
  },
  {
   "cell_type": "code",
   "execution_count": 16,
   "metadata": {},
   "outputs": [
    {
     "name": "stdout",
     "output_type": "stream",
     "text": [
      "Pi is approximately:  3.14159265359\n"
     ]
    }
   ],
   "source": [
    "print 'Pi is approximately: ', pi"
   ]
  },
  {
   "cell_type": "code",
   "execution_count": 17,
   "metadata": {},
   "outputs": [
    {
     "name": "stdout",
     "output_type": "stream",
     "text": [
      "3.141593 is approximately pi.\n",
      "3.14 is approximately pi.\n",
      "3.141592654 is approximately pi.\n",
      "3.14159265358979311599796346854419 is approximately pi.\n",
      " 3.14 is approximately pi.\n"
     ]
    }
   ],
   "source": [
    "print \"%f is approximately pi.\" % pi\n",
    "print \"%1.2f is approximately pi.\" % pi\n",
    "print \"%1.9f is approximately pi.\" % pi\n",
    "print \"%1.32f is approximately pi.\" % pi\n",
    "print \"%5.2f is approximately pi.\" % pi"
   ]
  },
  {
   "cell_type": "code",
   "execution_count": 18,
   "metadata": {},
   "outputs": [
    {
     "name": "stdout",
     "output_type": "stream",
     "text": [
      "For x=1 we get that y=3\n"
     ]
    }
   ],
   "source": [
    "print 'For x={0} we get that y={1}'.format(1, 3)"
   ]
  },
  {
   "cell_type": "code",
   "execution_count": 19,
   "metadata": {},
   "outputs": [
    {
     "name": "stdout",
     "output_type": "stream",
     "text": [
      "If a=3.0 b=1.234 then a+b=4.234\n"
     ]
    }
   ],
   "source": [
    "x=1.234\n",
    "print \"If a=\"+str(3.0)+\" b=\"+str(x)+\" then a+b=\"+str(3.0+x)"
   ]
  },
  {
   "cell_type": "markdown",
   "metadata": {},
   "source": [
    "We saw converting numbers and variables to strings. We can also convert types between int and float."
   ]
  },
  {
   "cell_type": "code",
   "execution_count": 20,
   "metadata": {},
   "outputs": [
    {
     "name": "stdout",
     "output_type": "stream",
     "text": [
      "3\n",
      "3.0\n"
     ]
    }
   ],
   "source": [
    "print int(3.14)\n",
    "print float(3)"
   ]
  },
  {
   "cell_type": "markdown",
   "metadata": {},
   "source": [
    "In this class, we will often consider errors or tolerances that are very small. For example, consider:\n",
    "$$\\epsilon = 10^{-6}$$\n",
    "and \n",
    "$$\\delta = 3.2 \\times 10^{-4}$$\n",
    "We can write:"
   ]
  },
  {
   "cell_type": "code",
   "execution_count": 22,
   "metadata": {},
   "outputs": [
    {
     "name": "stdout",
     "output_type": "stream",
     "text": [
      "1e-06\n",
      "1e-06\n",
      "0.00032\n"
     ]
    }
   ],
   "source": [
    "epsilon = 10**-6\n",
    "print epsilon\n",
    "print 1e-6\n",
    "delta= 3.2e-4\n",
    "print delta"
   ]
  },
  {
   "cell_type": "markdown",
   "metadata": {},
   "source": [
    "#LIST/ARRAYS"
   ]
  },
  {
   "cell_type": "markdown",
   "metadata": {},
   "source": [
    "When dealing with data, you often want to keep track of multiple numbers at once, either in the form of a matrix or an array. There are many ways to do this in Python. Perhaps the most straightforward is the very flexible list construction that Python has built in."
   ]
  },
  {
   "cell_type": "code",
   "execution_count": 23,
   "metadata": {
    "scrolled": true
   },
   "outputs": [
    {
     "name": "stdout",
     "output_type": "stream",
     "text": [
      "[1, 2, 3]\n",
      "1\n",
      "Min is:  1\n",
      "Max is:  3\n"
     ]
    }
   ],
   "source": [
    "a = [1,2,3]\n",
    "print a\n",
    "print a[0]\n",
    "print 'Min is: ', min(a)\n",
    "print 'Max is: ', max(a)"
   ]
  },
  {
   "cell_type": "markdown",
   "metadata": {},
   "source": [
    "However, the list construction does have multiple limitations that you might take for granted coming from MATLAB or Mathematica. For example:"
   ]
  },
  {
   "cell_type": "code",
   "execution_count": 24,
   "metadata": {},
   "outputs": [
    {
     "ename": "TypeError",
     "evalue": "unsupported operand type(s) for ** or pow(): 'list' and 'int'",
     "output_type": "error",
     "traceback": [
      "\u001b[0;31m---------------------------------------------------------------------------\u001b[0m",
      "\u001b[0;31mTypeError\u001b[0m                                 Traceback (most recent call last)",
      "\u001b[0;32m<ipython-input-24-9d14bf4ad06f>\u001b[0m in \u001b[0;36m<module>\u001b[0;34m()\u001b[0m\n\u001b[0;32m----> 1\u001b[0;31m \u001b[0ma\u001b[0m\u001b[0;34m**\u001b[0m\u001b[0;36m2\u001b[0m\u001b[0;34m\u001b[0m\u001b[0m\n\u001b[0m",
      "\u001b[0;31mTypeError\u001b[0m: unsupported operand type(s) for ** or pow(): 'list' and 'int'"
     ]
    }
   ],
   "source": [
    "a**2"
   ]
  },
  {
   "cell_type": "markdown",
   "metadata": {},
   "source": [
    "One way around this is:"
   ]
  },
  {
   "cell_type": "code",
   "execution_count": 25,
   "metadata": {},
   "outputs": [
    {
     "name": "stdout",
     "output_type": "stream",
     "text": [
      "[1, 4, 9]\n"
     ]
    }
   ],
   "source": [
    "a_sq = [ a[i]**2 for i in range(len(a)) ]\n",
    "print a_sq"
   ]
  },
  {
   "cell_type": "code",
   "execution_count": 26,
   "metadata": {},
   "outputs": [
    {
     "name": "stdout",
     "output_type": "stream",
     "text": [
      "[1 2 3]\n",
      "1\n"
     ]
    }
   ],
   "source": [
    "a = np.array([1,2,3])\n",
    "print a\n",
    "print a[0]"
   ]
  },
  {
   "cell_type": "code",
   "execution_count": 27,
   "metadata": {},
   "outputs": [
    {
     "name": "stdout",
     "output_type": "stream",
     "text": [
      "[1 4 9]\n"
     ]
    }
   ],
   "source": [
    "print a**2"
   ]
  },
  {
   "cell_type": "markdown",
   "metadata": {},
   "source": [
    "The question of is one better than the other is hard to answer. You might be interested in many different things.\n",
    "+ Speed\n",
    "+ Portability of the Code. By using numpy, for example, to run your code someone else must also have numpy. \n",
    "+ Readability\n",
    "\n",
    "We can do some timing tests:"
   ]
  },
  {
   "cell_type": "code",
   "execution_count": 28,
   "metadata": {},
   "outputs": [
    {
     "name": "stdout",
     "output_type": "stream",
     "text": [
      "The list method took: 2.373413 seconds\n",
      "The numpy array method took: 0.015166 seconds\n",
      "The numpy method was 156.495197 times faster!!!\n"
     ]
    }
   ],
   "source": [
    "import time\n",
    "number_of_trials = int(1e7)\n",
    "test_list = range(number_of_trials)\n",
    "t0 = time.time()\n",
    "test_sq_1 = [ test_list[i]**2 for i in range(number_of_trials) ]\n",
    "t1 = time.time()\n",
    "delta_t = t1-t0\n",
    "test_nparray = np.array(range(number_of_trials))\n",
    "t2 = time.time()\n",
    "test_sq_2 = test_nparray**2\n",
    "t3 = time.time()\n",
    "delta_t2 = t3-t2\n",
    "speedup = delta_t/delta_t2\n",
    "print 'The list method took: %f seconds' % delta_t\n",
    "print 'The numpy array method took: %f seconds' % delta_t2\n",
    "print 'The numpy method was %f times faster!!!' % speedup"
   ]
  },
  {
   "cell_type": "markdown",
   "metadata": {},
   "source": [
    "You can also perform many other \"array slicing\" operations. For example, let us consider the longer array:"
   ]
  },
  {
   "cell_type": "code",
   "execution_count": 29,
   "metadata": {},
   "outputs": [],
   "source": [
    "l = range(25)"
   ]
  },
  {
   "cell_type": "code",
   "execution_count": 30,
   "metadata": {},
   "outputs": [
    {
     "name": "stdout",
     "output_type": "stream",
     "text": [
      "[0, 1, 2, 3, 4, 5, 6, 7, 8, 9, 10, 11, 12, 13, 14, 15, 16, 17, 18, 19, 20, 21, 22, 23, 24]\n"
     ]
    }
   ],
   "source": [
    "print l"
   ]
  },
  {
   "cell_type": "markdown",
   "metadata": {},
   "source": [
    "Let's say we want the first ten elements:"
   ]
  },
  {
   "cell_type": "code",
   "execution_count": 31,
   "metadata": {},
   "outputs": [
    {
     "data": {
      "text/plain": [
       "[0, 1, 2, 3, 4, 5, 6, 7, 8, 9]"
      ]
     },
     "execution_count": 31,
     "metadata": {},
     "output_type": "execute_result"
    }
   ],
   "source": [
    "l[0:10]"
   ]
  },
  {
   "cell_type": "markdown",
   "metadata": {},
   "source": [
    "What if we want every other element?"
   ]
  },
  {
   "cell_type": "code",
   "execution_count": 32,
   "metadata": {},
   "outputs": [
    {
     "data": {
      "text/plain": [
       "[0, 2, 4, 6, 8, 10, 12, 14, 16, 18, 20, 22, 24]"
      ]
     },
     "execution_count": 32,
     "metadata": {},
     "output_type": "execute_result"
    }
   ],
   "source": [
    "l[0:25:2]"
   ]
  },
  {
   "cell_type": "markdown",
   "metadata": {},
   "source": [
    "Or the last few?"
   ]
  },
  {
   "cell_type": "code",
   "execution_count": 34,
   "metadata": {},
   "outputs": [
    {
     "data": {
      "text/plain": [
       "[20, 21, 22, 23, 24]"
      ]
     },
     "execution_count": 34,
     "metadata": {},
     "output_type": "execute_result"
    }
   ],
   "source": [
    "l[20:]"
   ]
  },
  {
   "cell_type": "markdown",
   "metadata": {},
   "source": [
    "We can also use negative values to define positions!"
   ]
  },
  {
   "cell_type": "code",
   "execution_count": 35,
   "metadata": {},
   "outputs": [
    {
     "data": {
      "text/plain": [
       "[20, 21, 22, 23, 24]"
      ]
     },
     "execution_count": 35,
     "metadata": {},
     "output_type": "execute_result"
    }
   ],
   "source": [
    "l[-5:]"
   ]
  },
  {
   "cell_type": "markdown",
   "metadata": {},
   "source": [
    "You can also have a multidimensional list."
   ]
  },
  {
   "cell_type": "code",
   "execution_count": 36,
   "metadata": {},
   "outputs": [],
   "source": [
    "b = [[1,2,3],[4,5,6],[7,8,9]]"
   ]
  },
  {
   "cell_type": "code",
   "execution_count": 37,
   "metadata": {},
   "outputs": [
    {
     "data": {
      "text/plain": [
       "[[1, 2, 3], [4, 5, 6], [7, 8, 9]]"
      ]
     },
     "execution_count": 37,
     "metadata": {},
     "output_type": "execute_result"
    }
   ],
   "source": [
    "b"
   ]
  },
  {
   "cell_type": "markdown",
   "metadata": {},
   "source": [
    "To pull out specific elements, you use square brackets."
   ]
  },
  {
   "cell_type": "code",
   "execution_count": 38,
   "metadata": {},
   "outputs": [
    {
     "data": {
      "text/plain": [
       "[1, 2, 3]"
      ]
     },
     "execution_count": 38,
     "metadata": {},
     "output_type": "execute_result"
    }
   ],
   "source": [
    "b[0]"
   ]
  },
  {
   "cell_type": "code",
   "execution_count": 39,
   "metadata": {},
   "outputs": [
    {
     "data": {
      "text/plain": [
       "2"
      ]
     },
     "execution_count": 39,
     "metadata": {},
     "output_type": "execute_result"
    }
   ],
   "source": [
    "b[0][1]"
   ]
  },
  {
   "cell_type": "markdown",
   "metadata": {},
   "source": [
    "You can also pull out a range of values."
   ]
  },
  {
   "cell_type": "code",
   "execution_count": null,
   "metadata": {},
   "outputs": [],
   "source": [
    "b[0:2]"
   ]
  },
  {
   "cell_type": "markdown",
   "metadata": {},
   "source": [
    "You can use negative values to pull from the end of the list:"
   ]
  },
  {
   "cell_type": "code",
   "execution_count": null,
   "metadata": {},
   "outputs": [],
   "source": [
    "b[-1]"
   ]
  },
  {
   "cell_type": "markdown",
   "metadata": {},
   "source": [
    "You may have seen a more compact notation:"
   ]
  },
  {
   "cell_type": "code",
   "execution_count": null,
   "metadata": {},
   "outputs": [],
   "source": [
    "b[0,1]"
   ]
  },
  {
   "cell_type": "markdown",
   "metadata": {},
   "source": [
    "However, this only works in numpy arrays."
   ]
  },
  {
   "cell_type": "code",
   "execution_count": null,
   "metadata": {},
   "outputs": [],
   "source": [
    "b = np.array([[1,2,3],[4,5,6],[7,8,9]])"
   ]
  },
  {
   "cell_type": "code",
   "execution_count": null,
   "metadata": {},
   "outputs": [],
   "source": [
    "b[0][1]"
   ]
  },
  {
   "cell_type": "code",
   "execution_count": null,
   "metadata": {},
   "outputs": [],
   "source": [
    "b[0,1]"
   ]
  },
  {
   "cell_type": "code",
   "execution_count": null,
   "metadata": {},
   "outputs": [],
   "source": [
    "b[-1]"
   ]
  },
  {
   "cell_type": "markdown",
   "metadata": {},
   "source": [
    "You can also do some more clever operations. For example, let's say we want just the last column but do not want to transpose the array. We can use:"
   ]
  },
  {
   "cell_type": "code",
   "execution_count": null,
   "metadata": {},
   "outputs": [],
   "source": [
    "b[:,-1]"
   ]
  },
  {
   "cell_type": "code",
   "execution_count": null,
   "metadata": {},
   "outputs": [],
   "source": [
    "b = [[1,2],[3,4],[5,6]]\n",
    "print b"
   ]
  },
  {
   "cell_type": "code",
   "execution_count": null,
   "metadata": {},
   "outputs": [],
   "source": [
    "b = np.array([[1,2],[3,4],[5,6]])\n",
    "print b"
   ]
  },
  {
   "cell_type": "code",
   "execution_count": null,
   "metadata": {},
   "outputs": [],
   "source": [
    "print b.T"
   ]
  },
  {
   "cell_type": "markdown",
   "metadata": {},
   "source": [
    "Joining:"
   ]
  },
  {
   "cell_type": "code",
   "execution_count": null,
   "metadata": {},
   "outputs": [],
   "source": [
    "t1=[1,2,3]\n",
    "t2=[3,4,5]"
   ]
  },
  {
   "cell_type": "code",
   "execution_count": null,
   "metadata": {},
   "outputs": [],
   "source": [
    "t1+t2"
   ]
  },
  {
   "cell_type": "code",
   "execution_count": null,
   "metadata": {},
   "outputs": [],
   "source": [
    "n1=np.array([1,2,3])\n",
    "n2=np.array([3,4,5])"
   ]
  },
  {
   "cell_type": "code",
   "execution_count": null,
   "metadata": {},
   "outputs": [],
   "source": [
    "n1+n2"
   ]
  },
  {
   "cell_type": "code",
   "execution_count": null,
   "metadata": {},
   "outputs": [],
   "source": [
    "np.concatenate((n1,n2))"
   ]
  },
  {
   "cell_type": "markdown",
   "metadata": {},
   "source": [
    "One thing that you may want to do is convert the type of elements that are in an array."
   ]
  },
  {
   "cell_type": "code",
   "execution_count": null,
   "metadata": {},
   "outputs": [],
   "source": [
    "print np.array([1.3,2.4,6.7]).astype(np.int)\n",
    "print np.array([1,2,6]).astype(np.float16)"
   ]
  },
  {
   "cell_type": "markdown",
   "metadata": {},
   "source": [
    "##Be Careful:"
   ]
  },
  {
   "cell_type": "code",
   "execution_count": null,
   "metadata": {},
   "outputs": [],
   "source": [
    "a = 1.0\n",
    "b = a\n",
    "print a\n",
    "print b\n",
    "print a == b\n",
    "b = 2\n",
    "print a\n",
    "print b\n",
    "print a == b"
   ]
  },
  {
   "cell_type": "markdown",
   "metadata": {},
   "source": [
    "##BUT"
   ]
  },
  {
   "cell_type": "code",
   "execution_count": null,
   "metadata": {},
   "outputs": [],
   "source": [
    "a = [1,2,3,4]\n",
    "b = a\n",
    "print a\n",
    "print b\n",
    "print a==b\n",
    "b[0]=10\n",
    "print a\n",
    "print b\n",
    "print a==b"
   ]
  },
  {
   "cell_type": "markdown",
   "metadata": {},
   "source": [
    "##One solution:"
   ]
  },
  {
   "cell_type": "code",
   "execution_count": null,
   "metadata": {},
   "outputs": [],
   "source": [
    "a = [1,2,3,4]\n",
    "b = a[:]\n",
    "print a\n",
    "print b\n",
    "print a==b\n",
    "b[0]=10\n",
    "print a\n",
    "print b\n",
    "print a==b"
   ]
  },
  {
   "cell_type": "markdown",
   "metadata": {},
   "source": [
    "###Another is with deepcopy or copy (see internet). I suggest numpy (np.copy())."
   ]
  },
  {
   "cell_type": "code",
   "execution_count": null,
   "metadata": {},
   "outputs": [],
   "source": [
    "a = [1,2,3,4]\n",
    "b = np.copy(a)\n",
    "print a\n",
    "print b\n",
    "print a==b\n",
    "b[0]=10\n",
    "print a\n",
    "print b\n",
    "print a==b"
   ]
  },
  {
   "cell_type": "markdown",
   "metadata": {},
   "source": [
    "##Trick"
   ]
  },
  {
   "cell_type": "code",
   "execution_count": null,
   "metadata": {},
   "outputs": [],
   "source": [
    "list1=[1,2,3,4]\n",
    "list2=[4,5,6,7]"
   ]
  },
  {
   "cell_type": "code",
   "execution_count": null,
   "metadata": {},
   "outputs": [],
   "source": [
    "list1,list2=list2,list1"
   ]
  },
  {
   "cell_type": "code",
   "execution_count": null,
   "metadata": {},
   "outputs": [],
   "source": [
    "print list1\n",
    "print list2"
   ]
  },
  {
   "cell_type": "markdown",
   "metadata": {},
   "source": [
    "#LOOPING"
   ]
  },
  {
   "cell_type": "code",
   "execution_count": null,
   "metadata": {},
   "outputs": [],
   "source": [
    "print range(10)\n",
    "print xrange(10)"
   ]
  },
  {
   "cell_type": "code",
   "execution_count": null,
   "metadata": {},
   "outputs": [],
   "source": [
    "for i in range(3):\n",
    "    print i"
   ]
  },
  {
   "cell_type": "code",
   "execution_count": null,
   "metadata": {},
   "outputs": [],
   "source": [
    "for i in xrange(3):\n",
    "    print i"
   ]
  },
  {
   "cell_type": "markdown",
   "metadata": {},
   "source": [
    "Looks like we are looping over the list"
   ]
  },
  {
   "cell_type": "code",
   "execution_count": null,
   "metadata": {},
   "outputs": [],
   "source": [
    "candidates = [1,1,2,3,5,8,13,21]\n",
    "for candidate in candidates:\n",
    "    print candidate"
   ]
  },
  {
   "cell_type": "code",
   "execution_count": null,
   "metadata": {},
   "outputs": [],
   "source": [
    "starwars=['The Phantom Menace','Attack of the Clones','Revenge of the Sith','A New Hope',\\\n",
    "          'The Empire Strikes Back', 'Return of the Jedi','The Force Awakens']"
   ]
  },
  {
   "cell_type": "code",
   "execution_count": null,
   "metadata": {},
   "outputs": [],
   "source": [
    "for movie in starwars:\n",
    "    print movie"
   ]
  },
  {
   "cell_type": "code",
   "execution_count": null,
   "metadata": {},
   "outputs": [],
   "source": [
    "enumerated=list(enumerate(starwars))\n",
    "print enumerated"
   ]
  },
  {
   "cell_type": "code",
   "execution_count": null,
   "metadata": {},
   "outputs": [],
   "source": [
    "enumerated[0]"
   ]
  },
  {
   "cell_type": "markdown",
   "metadata": {},
   "source": [
    "# Functions"
   ]
  },
  {
   "cell_type": "code",
   "execution_count": null,
   "metadata": {},
   "outputs": [],
   "source": [
    "def polynomial_1(x):\n",
    "    return x**3+x**2+x\n",
    "\n",
    "def polynomial_2(x,y):\n",
    "    return x*y-x**1.3-y\n",
    "\n",
    "def func_3(n_max):\n",
    "    yes = 0\n",
    "    no = 0\n",
    "    for i in xrange(n_max):\n",
    "        r = np.random.rand()\n",
    "        if r < 0.5:\n",
    "            yes = yes + 1\n",
    "        else: \n",
    "            no = no+1\n",
    "    return float(yes)/n_max"
   ]
  },
  {
   "cell_type": "code",
   "execution_count": null,
   "metadata": {},
   "outputs": [],
   "source": [
    "print polynomial_1(3.)\n",
    "print polynomial_2(3.,2.0)"
   ]
  },
  {
   "cell_type": "code",
   "execution_count": null,
   "metadata": {},
   "outputs": [],
   "source": [
    "func_3(1000)"
   ]
  },
  {
   "cell_type": "code",
   "execution_count": null,
   "metadata": {},
   "outputs": [],
   "source": [
    "xs = np.linspace(0,5,10)\n",
    "print xs\n",
    "ys = polynomial_1(xs)\n",
    "print ys"
   ]
  },
  {
   "cell_type": "code",
   "execution_count": null,
   "metadata": {},
   "outputs": [],
   "source": [
    "Numx, Numy = 100, 100\n",
    "x = np.linspace(0, 6, Numx)\n",
    "y = np.linspace(0, 6, Numy)\n",
    "xx, yy = np.meshgrid(x, y)"
   ]
  },
  {
   "cell_type": "code",
   "execution_count": null,
   "metadata": {},
   "outputs": [],
   "source": [
    "z = polynomial_2(xx,yy)"
   ]
  },
  {
   "cell_type": "markdown",
   "metadata": {},
   "source": [
    "We can plot the function as a contour plot. We will focus more on plotting below."
   ]
  },
  {
   "cell_type": "code",
   "execution_count": null,
   "metadata": {
    "scrolled": true
   },
   "outputs": [],
   "source": [
    "plt.contourf(x,y,z)\n",
    "plt.title('Contour Plot of Polynomial_2')\n",
    "plt.xlabel('x-value')\n",
    "plt.ylabel('y-value')\n",
    "plt.show()"
   ]
  },
  {
   "cell_type": "markdown",
   "metadata": {
    "collapsed": true
   },
   "source": [
    "#Tricks and Tips"
   ]
  },
  {
   "cell_type": "markdown",
   "metadata": {},
   "source": [
    "###Incrementing, etc"
   ]
  },
  {
   "cell_type": "code",
   "execution_count": null,
   "metadata": {},
   "outputs": [],
   "source": [
    "i = 1\n",
    "i+=1\n",
    "print i"
   ]
  },
  {
   "cell_type": "code",
   "execution_count": null,
   "metadata": {},
   "outputs": [],
   "source": [
    "j = 2\n",
    "j*=4\n",
    "print j"
   ]
  },
  {
   "cell_type": "code",
   "execution_count": null,
   "metadata": {},
   "outputs": [],
   "source": [
    "k = 10.0\n",
    "k /= 3.0\n",
    "print k"
   ]
  },
  {
   "cell_type": "markdown",
   "metadata": {},
   "source": [
    "###plt.spy()"
   ]
  },
  {
   "cell_type": "markdown",
   "metadata": {},
   "source": [
    "The plt.spy() function can be very useful for quickly debugging code. It plots a matrix as either white or black depending if the corresponding element is a 0 or not. It can be useful in figuring out the general structure of a matrix."
   ]
  },
  {
   "cell_type": "code",
   "execution_count": null,
   "metadata": {},
   "outputs": [],
   "source": [
    "a=np.zeros((3,3))\n",
    "print a"
   ]
  },
  {
   "cell_type": "code",
   "execution_count": null,
   "metadata": {},
   "outputs": [],
   "source": [
    "for i in range(3):\n",
    "    x1,x2=np.random.randint(0,3),np.random.randint(0,3)\n",
    "    a[x1][x2]+=1"
   ]
  },
  {
   "cell_type": "code",
   "execution_count": null,
   "metadata": {},
   "outputs": [],
   "source": [
    "plt.spy(a)"
   ]
  },
  {
   "cell_type": "markdown",
   "metadata": {},
   "source": [
    "Note that this is quite different from the function plt.imshow()"
   ]
  },
  {
   "cell_type": "code",
   "execution_count": null,
   "metadata": {},
   "outputs": [],
   "source": [
    "for_imshow=np.array([[np.log(i*j*np.random.rand()+np.random.rand()) for j in xrange(100)] for i in xrange(100)])"
   ]
  },
  {
   "cell_type": "code",
   "execution_count": null,
   "metadata": {},
   "outputs": [],
   "source": [
    "plt.rcParams['figure.figsize'] = 8, 6\n",
    "PLOT = plt.imshow(for_imshow)\n",
    "plt.colorbar()\n",
    "plt.show()\n",
    "plt.rcParams['figure.figsize'] = 6, 6\n",
    "PLOT = plt.imshow(for_imshow)\n",
    "PLOT.set_cmap('hot')\n",
    "plt.colorbar()\n",
    "plt.show()"
   ]
  },
  {
   "cell_type": "code",
   "execution_count": null,
   "metadata": {},
   "outputs": [],
   "source": [
    "plt.rcParams['figure.figsize'] = 8, 6\n",
    "PLOT = plt.imshow(for_imshow,interpolation='none')\n",
    "plt.colorbar()\n",
    "plt.show()"
   ]
  },
  {
   "cell_type": "markdown",
   "metadata": {},
   "source": [
    "###Can call a function recursively"
   ]
  },
  {
   "cell_type": "code",
   "execution_count": null,
   "metadata": {},
   "outputs": [],
   "source": [
    "def factorial(n):\n",
    "    if n<1: \n",
    "        return 1\n",
    "    else:\n",
    "        tmp=n*factorial(n-1)\n",
    "        return tmp"
   ]
  },
  {
   "cell_type": "code",
   "execution_count": null,
   "metadata": {},
   "outputs": [],
   "source": [
    "print factorial(1)\n",
    "print factorial(3)"
   ]
  },
  {
   "cell_type": "markdown",
   "metadata": {},
   "source": [
    "###Append can be slow"
   ]
  },
  {
   "cell_type": "code",
   "execution_count": null,
   "metadata": {},
   "outputs": [],
   "source": [
    "import time as time"
   ]
  },
  {
   "cell_type": "code",
   "execution_count": null,
   "metadata": {},
   "outputs": [],
   "source": [
    "N = 1e9\n",
    "append_version = []\n",
    "append_version2 = []\n",
    "t_o = time.time()\n",
    "for i in range(int(N)):\n",
    "    append_version.append(np.random.rand())\n",
    "    append_version2.append(np.random.rand())\n",
    "t_f = time.time()\n",
    "print t_f-t_o"
   ]
  },
  {
   "cell_type": "code",
   "execution_count": null,
   "metadata": {},
   "outputs": [],
   "source": [
    "N = 1e9\n",
    "other = np.zeros(int(N))\n",
    "other2 = np.zeros(int(N))\n",
    "t_o = time.time()\n",
    "for i in range(int(N)):\n",
    "    other[i] = np.random.rand()\n",
    "    other2[i] = np.random.rand()\n",
    "t_f = time.time()\n",
    "print t_f-t_o"
   ]
  },
  {
   "cell_type": "markdown",
   "metadata": {},
   "source": [
    "On the internet you might see something like:"
   ]
  },
  {
   "cell_type": "code",
   "execution_count": null,
   "metadata": {},
   "outputs": [],
   "source": [
    "def f(x):\n",
    "    return x\n",
    "\n",
    "if __name__=='__main__':\n",
    "    print f(30)"
   ]
  },
  {
   "cell_type": "markdown",
   "metadata": {},
   "source": [
    "This construction can be very useful when dealing with larger packages where you have different functions in different files."
   ]
  },
  {
   "cell_type": "markdown",
   "metadata": {},
   "source": [
    "#Lambda Functions"
   ]
  },
  {
   "cell_type": "code",
   "execution_count": null,
   "metadata": {},
   "outputs": [],
   "source": [
    "def f(x): \n",
    "    return x**4\n",
    "g = lambda x: x**4"
   ]
  },
  {
   "cell_type": "code",
   "execution_count": null,
   "metadata": {},
   "outputs": [],
   "source": [
    "f(4)"
   ]
  },
  {
   "cell_type": "code",
   "execution_count": null,
   "metadata": {},
   "outputs": [],
   "source": [
    "g(4)"
   ]
  },
  {
   "cell_type": "code",
   "execution_count": null,
   "metadata": {},
   "outputs": [],
   "source": [
    "tmp = [1,2,3,4,5,6]\n",
    "print map(lambda x: x**2 , tmp)"
   ]
  },
  {
   "cell_type": "markdown",
   "metadata": {},
   "source": [
    "#Dictionaries"
   ]
  },
  {
   "cell_type": "code",
   "execution_count": null,
   "metadata": {},
   "outputs": [],
   "source": [
    "dictionary = {'Course': 'Math 162a', 'Instructor': 'Thomas Fai', 'Book': 'Heath: Scientic Computing'}\n",
    "\n",
    "print \"dictionary['Course']: \", dictionary['Course']\n",
    "print \"dictionary['Instructor']: \", dictionary['Instructor']"
   ]
  },
  {
   "cell_type": "code",
   "execution_count": null,
   "metadata": {},
   "outputs": [],
   "source": [
    "life_span = {'Tortoise': 255, 'Human': 122, 'Orca': 103, 'Lobster': 140 , 'Koi': 226,\\\n",
    "             'Cat': 38, 'Polar Bear':42 , 'Flamingo': 80}"
   ]
  },
  {
   "cell_type": "code",
   "execution_count": null,
   "metadata": {},
   "outputs": [],
   "source": [
    "life_span.keys()"
   ]
  },
  {
   "cell_type": "code",
   "execution_count": null,
   "metadata": {},
   "outputs": [],
   "source": [
    "life_span.values()"
   ]
  },
  {
   "cell_type": "code",
   "execution_count": null,
   "metadata": {},
   "outputs": [],
   "source": [
    "life_span['Polar Bear']"
   ]
  },
  {
   "cell_type": "markdown",
   "metadata": {},
   "source": [
    "What if we want to add a new element?"
   ]
  },
  {
   "cell_type": "code",
   "execution_count": null,
   "metadata": {},
   "outputs": [],
   "source": [
    "life_span['Alligator'] = 80"
   ]
  },
  {
   "cell_type": "code",
   "execution_count": null,
   "metadata": {},
   "outputs": [],
   "source": [
    "life_span"
   ]
  },
  {
   "cell_type": "markdown",
   "metadata": {},
   "source": [
    "#While Loops via Gradient Descent"
   ]
  },
  {
   "cell_type": "markdown",
   "metadata": {},
   "source": [
    "One common theme of this course is that we would like to continue a procedure until the error is below some prescribed value. To give a simple example of how to do this, let's consider a simple greedy, gradient descent algorithm."
   ]
  },
  {
   "cell_type": "markdown",
   "metadata": {},
   "source": [
    "First, we define a simple function that we would like to find the minimum of."
   ]
  },
  {
   "cell_type": "code",
   "execution_count": null,
   "metadata": {},
   "outputs": [],
   "source": [
    "def f(x):\n",
    "    return x**2+(x)-5*x-3\n",
    "def df(x):\n",
    "    return 2*x+1-5"
   ]
  },
  {
   "cell_type": "markdown",
   "metadata": {},
   "source": [
    "We setup an array of $x$-values to consider."
   ]
  },
  {
   "cell_type": "code",
   "execution_count": null,
   "metadata": {},
   "outputs": [],
   "source": [
    "xs=np.linspace(-4,10,100)"
   ]
  },
  {
   "cell_type": "markdown",
   "metadata": {},
   "source": [
    "and we evaluate the function at all the $x$s."
   ]
  },
  {
   "cell_type": "code",
   "execution_count": null,
   "metadata": {},
   "outputs": [],
   "source": [
    "ys=f(xs)"
   ]
  },
  {
   "cell_type": "markdown",
   "metadata": {},
   "source": [
    "Next, we simply plot the function."
   ]
  },
  {
   "cell_type": "code",
   "execution_count": null,
   "metadata": {},
   "outputs": [],
   "source": [
    "plt.plot(xs,ys,'r-')"
   ]
  },
  {
   "cell_type": "code",
   "execution_count": null,
   "metadata": {},
   "outputs": [],
   "source": [
    "#setup a tolerance we will accept\n",
    "error = 1e-6"
   ]
  },
  {
   "cell_type": "code",
   "execution_count": null,
   "metadata": {},
   "outputs": [],
   "source": [
    "start = 0\n",
    "current = 14*np.random.rand()-4\n",
    "error = 1e-6\n",
    "alpha = 0.1\n",
    "iteration = 0\n",
    "\n",
    "while abs(current - start) > error:\n",
    "    start = current\n",
    "    current = start - alpha * df(start)\n",
    "    iteration+=1\n",
    "\n",
    "print \"Local minimum occurs at\", current\n",
    "print \"It took %d iterations\" %iteration"
   ]
  },
  {
   "cell_type": "markdown",
   "metadata": {},
   "source": [
    "#Example: Pi a la Monte Carlo"
   ]
  },
  {
   "cell_type": "code",
   "execution_count": 40,
   "metadata": {},
   "outputs": [],
   "source": [
    "#Define variables\n",
    "N = 10000 #number of samples"
   ]
  },
  {
   "cell_type": "code",
   "execution_count": 41,
   "metadata": {},
   "outputs": [],
   "source": [
    "xs = np.random.rand(N)\n",
    "ys = np.random.rand(N)\n",
    "\n",
    "#Using append is not very fast, but it is very readable\n",
    "#and, in this case, it is fast enough\n",
    "\n",
    "inside = []\n",
    "outside = []\n",
    "\n",
    "#We want to check if the value is inside or outside\n",
    "for i in range(N):\n",
    "    if xs[i]**2+ys[i]**2<=1:\n",
    "        inside.append([xs[i],ys[i]])\n",
    "    else:\n",
    "        outside.append([xs[i],ys[i]])"
   ]
  },
  {
   "cell_type": "code",
   "execution_count": 42,
   "metadata": {},
   "outputs": [],
   "source": [
    "[x1,x2] = np.array(inside).T\n",
    "[x3,x4] = np.array(outside).T"
   ]
  },
  {
   "cell_type": "code",
   "execution_count": 43,
   "metadata": {},
   "outputs": [
    {
     "data": {
      "image/png": "[encoded data removed]",
      "text/plain": [
       "<Figure size 576x576 with 1 Axes>"
      ]
     },
     "metadata": {
      "needs_background": "light"
     },
     "output_type": "display_data"
    }
   ],
   "source": [
    "fig = plt.figure(figsize=(8, 8))\n",
    "ax = fig.add_subplot(111)\n",
    "ax.set_aspect('equal')\n",
    "ax.plot(x1,x2,'ro',label='Inside')\n",
    "ax.plot(x3,x4,'bo',label='Outsde')\n",
    "legend = plt.legend()\n",
    "frame = legend.get_frame()\n",
    "frame.set_facecolor('1')\n",
    "#plt.legend(loc='best')\n",
    "plt.show()"
   ]
  },
  {
   "cell_type": "code",
   "execution_count": 44,
   "metadata": {},
   "outputs": [],
   "source": [
    "def mc_pi(N):\n",
    "    xs = np.random.rand(N)\n",
    "    ys = np.random.rand(N)\n",
    "\n",
    "    #Using append is not very fast, but it is very readable\n",
    "    #and in this case, it is fast enough\n",
    "\n",
    "    inside = []\n",
    "    outside = []\n",
    "\n",
    "    #We want to check if the value is inside or outside\n",
    "    for i in range(N):\n",
    "        if xs[i]**2+ys[i]**2<=1:\n",
    "            inside.append([xs[i],ys[i]])\n",
    "        else:\n",
    "            outside.append([xs[i],ys[i]])\n",
    "    return 4*len(inside)/float(N)"
   ]
  },
  {
   "cell_type": "code",
   "execution_count": 45,
   "metadata": {},
   "outputs": [
    {
     "name": "stdout",
     "output_type": "stream",
     "text": [
      "[1000000  828642  686648  568986  471486  390693  323745  268269  222299\n",
      "  184206  152641  126485  104811   86851   71968   59636   49417   40949\n",
      "   33932   28117   23299   19306   15998   13257   10985    9102    7543\n",
      "    6250    5179    4291    3556    2947    2442    2023    1676    1389\n",
      "    1151     954     790     655     542     449     372     308     255\n",
      "     212     175     145     120     100]\n"
     ]
    }
   ],
   "source": [
    "log_space = np.logspace(6,2).astype(int)\n",
    "print log_space"
   ]
  },
  {
   "cell_type": "code",
   "execution_count": 46,
   "metadata": {},
   "outputs": [],
   "source": [
    "pi_vals = np.zeros(len(log_space))"
   ]
  },
  {
   "cell_type": "code",
   "execution_count": 47,
   "metadata": {},
   "outputs": [],
   "source": [
    "for i in xrange(len(log_space)):\n",
    "    pi_vals[i] = mc_pi(log_space[i])"
   ]
  },
  {
   "cell_type": "code",
   "execution_count": 48,
   "metadata": {},
   "outputs": [
    {
     "data": {
      "text/plain": [
       "[<matplotlib.lines.Line2D at 0x7fcc2f443050>]"
      ]
     },
     "execution_count": 48,
     "metadata": {},
     "output_type": "execute_result"
    },
    {
     "data": {
      "image/png": "[encoded data removed]",
      "text/plain": [
       "<Figure size 432x288 with 1 Axes>"
      ]
     },
     "metadata": {
      "needs_background": "light"
     },
     "output_type": "display_data"
    }
   ],
   "source": [
    "plt.plot(log_space,abs((pi_vals-np.pi))/np.pi)"
   ]
  },
  {
   "cell_type": "code",
   "execution_count": 49,
   "metadata": {},
   "outputs": [
    {
     "data": {
      "text/plain": [
       "[<matplotlib.lines.Line2D at 0x7fcbd88c2ed0>]"
      ]
     },
     "execution_count": 49,
     "metadata": {},
     "output_type": "execute_result"
    },
    {
     "data": {
      "image/png": "[encoded data removed]",
      "text/plain": [
       "<Figure size 432x288 with 1 Axes>"
      ]
     },
     "metadata": {
      "needs_background": "light"
     },
     "output_type": "display_data"
    }
   ],
   "source": [
    "plt.loglog(log_space,abs((pi_vals-np.pi))/np.pi)"
   ]
  },
  {
   "cell_type": "markdown",
   "metadata": {},
   "source": [
    "##Thanks!"
   ]
  }
 ],
 "metadata": {
  "kernelspec": {
   "display_name": "Python 3 (ipykernel)",
   "language": "python",
   "name": "python3"
  },
  "language_info": {
   "codemirror_mode": {
    "name": "ipython",
    "version": 3
   },
   "file_extension": ".py",
   "mimetype": "text/x-python",
   "name": "python",
   "nbconvert_exporter": "python",
   "pygments_lexer": "ipython3",
   "version": "3.9.7"
  }
 },
 "nbformat": 4,
 "nbformat_minor": 1
}
