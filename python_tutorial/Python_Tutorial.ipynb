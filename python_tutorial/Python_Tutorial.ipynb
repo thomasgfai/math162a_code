{
 "cells": [
  {
   "cell_type": "markdown",
   "metadata": {},
   "source": [
    "# Python Tutorial\n",
    "\n",
    "## adapted from tutorial by Jordan Hoffmann  and Raphaël Pestourie\n",
    "---\n",
    "##Why Python?\n",
    "- Unlike MATLAB or Mathematica, Python is free and comes preinstalled on all Macs as well as most Linux boxes.\n",
    "- You may be interested in Anaconda which has installers for Windows, Mac, as well as Linux. It contains all commonly used packages for scientific computing as well as a few extras. It can be downloaded at:\n",
    "http://continuum.io/downloads\n",
    "- Python is easy to use. It is an interpreted language, so unlike C/C++, you do not need to compile your code.\n",
    "- There is active development of Python packages in the scientific community and many C/C++ packages are also available for Python. For example: PyCuda, MPI4Py, PyOpenCL."
   ]
  },
  {
   "cell_type": "markdown",
   "metadata": {},
   "source": [
    "###Python 2 vs 3\n",
    "This is a more complicated question than we need to get in to. All in class examples will use Python version 2.7.9 (packaged with Anaconda). For more information, look at:\n",
    "https://wiki.python.org/moin/Python2orPython3"
   ]
  },
  {
   "cell_type": "markdown",
   "metadata": {},
   "source": [
    "##Python from the Terminal"
   ]
  },
  {
   "cell_type": "markdown",
   "metadata": {},
   "source": [
    "Let us begin by briefly running Python from the terminal. This is my preferred method for a few reasons that I'll mention below.\n",
    "\n",
    "##DEMO\n",
    "Brief demo on running Python programs from the terminal. This is useful if you download the demos that are uploaded to the course website. If you have any questions, feel free to email either of us!"
   ]
  },
  {
   "cell_type": "markdown",
   "metadata": {},
   "source": [
    "##IPython Environment\n",
    "You will probably encounter the IPython environment many times this year. Files such as this are called \"Notebooks.\" They are able to contain text, figures, as well at code. You can also convert an entire notebook to a .tex file that can easily be converted to a PDF. It nicely handles formatting figures, code, as well as text."
   ]
  },
  {
   "cell_type": "markdown",
   "metadata": {},
   "source": [
    "####BEWARE\n",
    "There are a few things to keep in mind when running IPython notebooks. \n",
    "\n",
    "- You can run code out of order! This means that when you get something that works, you won't always know exactly what order you ran it in.\n",
    "- You can delete cells without deleting the variables. This means that you might have a variable stored in memory that is not what you expect. It can also mean you won't notice when code you hand in that you \"tidied up\" breaks.\n",
    "- You can have two different functions with the same name and one is right, the other is wrong. You'll need to remember which one you ran."
   ]
  },
  {
   "cell_type": "markdown",
   "metadata": {},
   "source": [
    "The IPython notebook format definitely also has its perks: you can also take advantage of $\\LaTeX$- something especially useful for maths.\n",
    "\n",
    "Here is an equation:\n",
    "$$\n",
    "\\exp{i\\pi}=-1\n",
    "$$\n",
    "and here is a matrix:\n",
    "$$\\left(\n",
    "\\begin{array}{cc}\n",
    " a & b \\\\\n",
    " b & a \\\\\n",
    "\\end{array}\n",
    "\\right)\n",
    "$$\n",
    "If you have additional questions about $\\LaTeX$, you are welcome to stop by my office hours or email me.\n",
    "\n",
    "You can also create nice, self contained documents that work nicely for problem sets as well as math/programming related web pages. Some other courses actually require their use."
   ]
  },
  {
   "cell_type": "markdown",
   "metadata": {},
   "source": [
    "At the beginning of most Python files, you will see import statements. These import special functions from other packages for use in a Python script. "
   ]
  },
  {
   "cell_type": "code",
   "execution_count": 59,
   "metadata": {},
   "outputs": [],
   "source": [
    "#Numpy is a library with many math functions that you'd find in MATLAB or Mathematica\n",
    "import numpy as np\n",
    "# 'as np' is very common practice. It is shorter than numpy.\n",
    "import matplotlib.pyplot as plt\n",
    "# This is used for plotting. Again 'as plt' is common practice\n",
    "%matplotlib inline\n",
    "#This is something unique to the notebook enviornment for Python.\n",
    "#It results in figures being displayed in the notebook enviornment instead of a new window."
   ]
  },
  {
   "cell_type": "code",
   "execution_count": 60,
   "metadata": {},
   "outputs": [],
   "source": [
    "# Other common things you may see:\n",
    "# import math\n",
    "# from math import *\n",
    "# from math import sin\n",
    "# import seaborn as sns\n",
    "# import pandas as pd"
   ]
  },
  {
   "cell_type": "markdown",
   "metadata": {},
   "source": [
    "# NUMBERS AND PRINTING"
   ]
  },
  {
   "cell_type": "markdown",
   "metadata": {},
   "source": [
    "There are many different ways to print in Python, depending on the type of output that you are hoping for."
   ]
  },
  {
   "cell_type": "code",
   "execution_count": 61,
   "metadata": {
    "scrolled": true
   },
   "outputs": [
    {
     "name": "stdout",
     "output_type": "stream",
     "text": [
      "Welcome\n"
     ]
    }
   ],
   "source": [
    "print 'Welcome'"
   ]
  },
  {
   "cell_type": "code",
   "execution_count": 62,
   "metadata": {},
   "outputs": [],
   "source": [
    "a = 4\n",
    "b = 3"
   ]
  },
  {
   "cell_type": "code",
   "execution_count": 63,
   "metadata": {},
   "outputs": [
    {
     "name": "stdout",
     "output_type": "stream",
     "text": [
      "a+b= 7\n",
      "a*b= 12\n"
     ]
    }
   ],
   "source": [
    "print 'a+b=',a+b\n",
    "print 'a*b=',a*b"
   ]
  },
  {
   "cell_type": "markdown",
   "metadata": {},
   "source": [
    "It is worth remembering that the exponent operator is '**' instead of '^' (XOR)"
   ]
  },
  {
   "cell_type": "code",
   "execution_count": 64,
   "metadata": {},
   "outputs": [
    {
     "name": "stdout",
     "output_type": "stream",
     "text": [
      "9.18958683998\n"
     ]
    }
   ],
   "source": [
    "print 2.0**3.2"
   ]
  },
  {
   "cell_type": "code",
   "execution_count": 65,
   "metadata": {},
   "outputs": [
    {
     "name": "stdout",
     "output_type": "stream",
     "text": [
      "9.18958683998\n"
     ]
    }
   ],
   "source": [
    "print pow(2.0,3.2)"
   ]
  },
  {
   "cell_type": "markdown",
   "metadata": {},
   "source": [
    "What about log?"
   ]
  },
  {
   "cell_type": "code",
   "execution_count": 66,
   "metadata": {},
   "outputs": [
    {
     "data": {
      "text/plain": [
       "1.1939224684724346"
      ]
     },
     "execution_count": 66,
     "metadata": {},
     "output_type": "execute_result"
    }
   ],
   "source": [
    "#log(3.3) ##DOES NOT WORK\n",
    "np.log(3.3)"
   ]
  },
  {
   "cell_type": "code",
   "execution_count": 67,
   "metadata": {},
   "outputs": [],
   "source": [
    "import math"
   ]
  },
  {
   "cell_type": "code",
   "execution_count": 68,
   "metadata": {},
   "outputs": [
    {
     "data": {
      "text/plain": [
       "1.1939224684724346"
      ]
     },
     "execution_count": 68,
     "metadata": {},
     "output_type": "execute_result"
    }
   ],
   "source": [
    "math.log(3.3)"
   ]
  },
  {
   "cell_type": "code",
   "execution_count": 69,
   "metadata": {},
   "outputs": [
    {
     "name": "stdout",
     "output_type": "stream",
     "text": [
      "a/b=4/3=1\n",
      "a/b=4/3= 1\n"
     ]
    }
   ],
   "source": [
    "print 'a/b={0}/{1}={2}'.format(a, b,a/b)\n",
    "print 'a/b='+str(a)+'/'+str(b)+'=',a/b"
   ]
  },
  {
   "cell_type": "code",
   "execution_count": 70,
   "metadata": {},
   "outputs": [],
   "source": [
    "a2 = 4.0\n",
    "b2 = 3.0"
   ]
  },
  {
   "cell_type": "code",
   "execution_count": 71,
   "metadata": {},
   "outputs": [
    {
     "name": "stdout",
     "output_type": "stream",
     "text": [
      "a2/b2=4.0/3.0=1.33333333333\n",
      "a2/b2=4.0/3.0= 1.33333333333\n"
     ]
    }
   ],
   "source": [
    "print 'a2/b2={0}/{1}={2}'.format(a2, b2,a2/b2)\n",
    "print 'a2/b2='+str(a2)+'/'+str(b2)+'=',a2/b2"
   ]
  },
  {
   "cell_type": "code",
   "execution_count": 72,
   "metadata": {},
   "outputs": [],
   "source": [
    "pi = np.pi"
   ]
  },
  {
   "cell_type": "code",
   "execution_count": 73,
   "metadata": {},
   "outputs": [
    {
     "name": "stdout",
     "output_type": "stream",
     "text": [
      "Pi is approximately:  3.14159265359\n"
     ]
    }
   ],
   "source": [
    "print 'Pi is approximately: ', pi"
   ]
  },
  {
   "cell_type": "code",
   "execution_count": 74,
   "metadata": {},
   "outputs": [
    {
     "name": "stdout",
     "output_type": "stream",
     "text": [
      "3.141593 is approximately pi.\n",
      "3.14 is approximately pi.\n",
      "3.141592654 is approximately pi.\n",
      "3.14159265358979311599796346854419 is approximately pi.\n",
      " 3.14 is approximately pi.\n"
     ]
    }
   ],
   "source": [
    "print \"%f is approximately pi.\" % pi\n",
    "print \"%1.2f is approximately pi.\" % pi\n",
    "print \"%1.9f is approximately pi.\" % pi\n",
    "print \"%1.32f is approximately pi.\" % pi\n",
    "print \"%5.2f is approximately pi.\" % pi"
   ]
  },
  {
   "cell_type": "code",
   "execution_count": 75,
   "metadata": {},
   "outputs": [
    {
     "name": "stdout",
     "output_type": "stream",
     "text": [
      "For x=1 we get that y=3\n"
     ]
    }
   ],
   "source": [
    "print 'For x={0} we get that y={1}'.format(1, 3)"
   ]
  },
  {
   "cell_type": "code",
   "execution_count": 76,
   "metadata": {},
   "outputs": [
    {
     "name": "stdout",
     "output_type": "stream",
     "text": [
      "If a=3.0 b=1.234 then a+b=4.234\n"
     ]
    }
   ],
   "source": [
    "x=1.234\n",
    "print \"If a=\"+str(3.0)+\" b=\"+str(x)+\" then a+b=\"+str(3.0+x)"
   ]
  },
  {
   "cell_type": "markdown",
   "metadata": {},
   "source": [
    "We saw converting numbers and variables to strings. We can also convert types between int and float."
   ]
  },
  {
   "cell_type": "code",
   "execution_count": 77,
   "metadata": {},
   "outputs": [
    {
     "name": "stdout",
     "output_type": "stream",
     "text": [
      "3\n",
      "3.0\n"
     ]
    }
   ],
   "source": [
    "print int(3.14)\n",
    "print float(3)"
   ]
  },
  {
   "cell_type": "markdown",
   "metadata": {},
   "source": [
    "In this class, we will often consider errors or tolerances that are very small. For example, consider:\n",
    "$$\\epsilon = 10^{-6}$$\n",
    "and \n",
    "$$\\delta = 3.2 \\times 10^{-4}$$\n",
    "We can write:"
   ]
  },
  {
   "cell_type": "code",
   "execution_count": 78,
   "metadata": {},
   "outputs": [
    {
     "name": "stdout",
     "output_type": "stream",
     "text": [
      "1e-06\n",
      "1e-06\n",
      "3.2e-06\n"
     ]
    }
   ],
   "source": [
    "epsilon = 10**-6\n",
    "print epsilon\n",
    "print 1e-6\n",
    "delta= 3.2e-6\n",
    "print delta"
   ]
  },
  {
   "cell_type": "markdown",
   "metadata": {},
   "source": [
    "#LIST/ARRAYS"
   ]
  },
  {
   "cell_type": "markdown",
   "metadata": {},
   "source": [
    "When dealing with data, you often want to keep track of multiple numbers at once, either in the form of a matrix or an array. There are many ways to do this in Python. Perhaps the most straightforward is the very flexible list construction that Python has built in."
   ]
  },
  {
   "cell_type": "code",
   "execution_count": 79,
   "metadata": {
    "scrolled": true
   },
   "outputs": [
    {
     "name": "stdout",
     "output_type": "stream",
     "text": [
      "[1, 2, 3]\n",
      "1\n",
      "Min is:  1\n",
      "Max is:  3\n"
     ]
    }
   ],
   "source": [
    "a = [1,2,3]\n",
    "print a\n",
    "print a[0]\n",
    "print 'Min is: ', min(a)\n",
    "print 'Max is: ', max(a)"
   ]
  },
  {
   "cell_type": "markdown",
   "metadata": {},
   "source": [
    "However, the list construction does have multiple limitations that you might take for granted coming from MATLAB or Mathematica. For example:"
   ]
  },
  {
   "cell_type": "code",
   "execution_count": 80,
   "metadata": {},
   "outputs": [
    {
     "ename": "TypeError",
     "evalue": "unsupported operand type(s) for ** or pow(): 'list' and 'int'",
     "output_type": "error",
     "traceback": [
      "\u001b[0;31m---------------------------------------------------------------------------\u001b[0m",
      "\u001b[0;31mTypeError\u001b[0m                                 Traceback (most recent call last)",
      "\u001b[0;32m<ipython-input-80-9d14bf4ad06f>\u001b[0m in \u001b[0;36m<module>\u001b[0;34m()\u001b[0m\n\u001b[0;32m----> 1\u001b[0;31m \u001b[0ma\u001b[0m\u001b[0;34m**\u001b[0m\u001b[0;36m2\u001b[0m\u001b[0;34m\u001b[0m\u001b[0m\n\u001b[0m",
      "\u001b[0;31mTypeError\u001b[0m: unsupported operand type(s) for ** or pow(): 'list' and 'int'"
     ]
    }
   ],
   "source": [
    "a**2"
   ]
  },
  {
   "cell_type": "markdown",
   "metadata": {},
   "source": [
    "One way around this is:"
   ]
  },
  {
   "cell_type": "code",
   "execution_count": null,
   "metadata": {},
   "outputs": [],
   "source": [
    "a_sq = [ a[i]**2 for i in range(len(a)) ]\n",
    "print a_sq"
   ]
  },
  {
   "cell_type": "code",
   "execution_count": null,
   "metadata": {},
   "outputs": [],
   "source": [
    "a = np.array([1,2,3])\n",
    "print a\n",
    "print a[0]"
   ]
  },
  {
   "cell_type": "code",
   "execution_count": null,
   "metadata": {},
   "outputs": [],
   "source": [
    "print a**2"
   ]
  },
  {
   "cell_type": "markdown",
   "metadata": {},
   "source": [
    "The question of is one better than the other is hard to answer. You might be interested in many different things.\n",
    "+ Speed\n",
    "+ Portability of the Code. By using numpy, for example, to run your code someone else must also have numpy. \n",
    "+ Readability\n",
    "\n",
    "We can do some timing tests:"
   ]
  },
  {
   "cell_type": "code",
   "execution_count": null,
   "metadata": {},
   "outputs": [],
   "source": [
    "import time\n",
    "number_of_trials = int(1e7)\n",
    "test_list = range(number_of_trials)\n",
    "t0 = time.time()\n",
    "test_sq_1 = [ test_list[i]**2 for i in range(number_of_trials) ]\n",
    "t1 = time.time()\n",
    "delta_t = t1-t0\n",
    "test_nparray = np.array(range(number_of_trials))\n",
    "t2 = time.time()\n",
    "test_sq_2 = test_nparray**2\n",
    "t3 = time.time()\n",
    "delta_t2 = t3-t2\n",
    "speedup = delta_t/delta_t2\n",
    "print 'The list method took: %f seconds' % delta_t\n",
    "print 'The numpy array method took: %f seconds' % delta_t2\n",
    "print 'The numpy method was %f times faster!!!' % speedup"
   ]
  },
  {
   "cell_type": "markdown",
   "metadata": {},
   "source": [
    "You can also perform many other \"array slicing\" operations. For example, let us consider the longer array:"
   ]
  },
  {
   "cell_type": "code",
   "execution_count": null,
   "metadata": {},
   "outputs": [],
   "source": [
    "l = range(25)"
   ]
  },
  {
   "cell_type": "code",
   "execution_count": null,
   "metadata": {},
   "outputs": [],
   "source": [
    "print l"
   ]
  },
  {
   "cell_type": "markdown",
   "metadata": {},
   "source": [
    "Let's say we want the first ten elements:"
   ]
  },
  {
   "cell_type": "code",
   "execution_count": null,
   "metadata": {},
   "outputs": [],
   "source": [
    "l[0:10]"
   ]
  },
  {
   "cell_type": "markdown",
   "metadata": {},
   "source": [
    "What if we want every other element?"
   ]
  },
  {
   "cell_type": "code",
   "execution_count": null,
   "metadata": {},
   "outputs": [],
   "source": [
    "l[0:25:2]"
   ]
  },
  {
   "cell_type": "markdown",
   "metadata": {},
   "source": [
    "Or the last few?"
   ]
  },
  {
   "cell_type": "code",
   "execution_count": null,
   "metadata": {},
   "outputs": [],
   "source": [
    "l[20:]"
   ]
  },
  {
   "cell_type": "markdown",
   "metadata": {},
   "source": [
    "We can also use negative values to define positions!"
   ]
  },
  {
   "cell_type": "code",
   "execution_count": null,
   "metadata": {},
   "outputs": [],
   "source": [
    "l[-5:]"
   ]
  },
  {
   "cell_type": "markdown",
   "metadata": {},
   "source": [
    "You can also have a multidimensional list."
   ]
  },
  {
   "cell_type": "code",
   "execution_count": null,
   "metadata": {},
   "outputs": [],
   "source": [
    "b = [[1,2,3],[4,5,6],[7,8,9]]"
   ]
  },
  {
   "cell_type": "code",
   "execution_count": null,
   "metadata": {},
   "outputs": [],
   "source": [
    "b"
   ]
  },
  {
   "cell_type": "markdown",
   "metadata": {},
   "source": [
    "To pull out specific elements, you use square brackets."
   ]
  },
  {
   "cell_type": "code",
   "execution_count": null,
   "metadata": {},
   "outputs": [],
   "source": [
    "b[0]"
   ]
  },
  {
   "cell_type": "code",
   "execution_count": null,
   "metadata": {},
   "outputs": [],
   "source": [
    "b[0][1]"
   ]
  },
  {
   "cell_type": "markdown",
   "metadata": {},
   "source": [
    "You can also pull out a range of values."
   ]
  },
  {
   "cell_type": "code",
   "execution_count": null,
   "metadata": {},
   "outputs": [],
   "source": [
    "b[0:2]"
   ]
  },
  {
   "cell_type": "markdown",
   "metadata": {},
   "source": [
    "You can use negative values to pull from the end of the list:"
   ]
  },
  {
   "cell_type": "code",
   "execution_count": null,
   "metadata": {},
   "outputs": [],
   "source": [
    "b[-1]"
   ]
  },
  {
   "cell_type": "markdown",
   "metadata": {},
   "source": [
    "You may have seen a more compact notation:"
   ]
  },
  {
   "cell_type": "code",
   "execution_count": 81,
   "metadata": {},
   "outputs": [
    {
     "ename": "TypeError",
     "evalue": "'int' object has no attribute '__getitem__'",
     "output_type": "error",
     "traceback": [
      "\u001b[0;31m---------------------------------------------------------------------------\u001b[0m",
      "\u001b[0;31mTypeError\u001b[0m                                 Traceback (most recent call last)",
      "\u001b[0;32m<ipython-input-81-8979d129e554>\u001b[0m in \u001b[0;36m<module>\u001b[0;34m()\u001b[0m\n\u001b[0;32m----> 1\u001b[0;31m \u001b[0mb\u001b[0m\u001b[0;34m[\u001b[0m\u001b[0;36m0\u001b[0m\u001b[0;34m,\u001b[0m\u001b[0;36m1\u001b[0m\u001b[0;34m]\u001b[0m\u001b[0;34m\u001b[0m\u001b[0m\n\u001b[0m",
      "\u001b[0;31mTypeError\u001b[0m: 'int' object has no attribute '__getitem__'"
     ]
    }
   ],
   "source": [
    "b[0,1]"
   ]
  },
  {
   "cell_type": "markdown",
   "metadata": {},
   "source": [
    "However, this only works in numpy arrays."
   ]
  },
  {
   "cell_type": "code",
   "execution_count": 49,
   "metadata": {},
   "outputs": [],
   "source": [
    "b = np.array([[1,2,3],[4,5,6],[7,8,9]])"
   ]
  },
  {
   "cell_type": "code",
   "execution_count": 50,
   "metadata": {},
   "outputs": [
    {
     "data": {
      "text/plain": [
       "2"
      ]
     },
     "execution_count": 50,
     "metadata": {},
     "output_type": "execute_result"
    }
   ],
   "source": [
    "b[0][1]"
   ]
  },
  {
   "cell_type": "code",
   "execution_count": 51,
   "metadata": {},
   "outputs": [
    {
     "data": {
      "text/plain": [
       "2"
      ]
     },
     "execution_count": 51,
     "metadata": {},
     "output_type": "execute_result"
    }
   ],
   "source": [
    "b[0,1]"
   ]
  },
  {
   "cell_type": "code",
   "execution_count": 52,
   "metadata": {},
   "outputs": [
    {
     "data": {
      "text/plain": [
       "array([7, 8, 9])"
      ]
     },
     "execution_count": 52,
     "metadata": {},
     "output_type": "execute_result"
    }
   ],
   "source": [
    "b[-1]"
   ]
  },
  {
   "cell_type": "markdown",
   "metadata": {},
   "source": [
    "You can also do some more clever operations. For example, let's say we want just the last column but do not want to transpose the array. We can use:"
   ]
  },
  {
   "cell_type": "code",
   "execution_count": 229,
   "metadata": {},
   "outputs": [
    {
     "data": {
      "text/plain": [
       "array([3, 6, 9])"
      ]
     },
     "execution_count": 229,
     "metadata": {},
     "output_type": "execute_result"
    }
   ],
   "source": [
    "b[:,-1]"
   ]
  },
  {
   "cell_type": "code",
   "execution_count": 230,
   "metadata": {},
   "outputs": [
    {
     "name": "stdout",
     "output_type": "stream",
     "text": [
      "[[1, 2], [3, 4], [5, 6]]\n"
     ]
    }
   ],
   "source": [
    "b = [[1,2],[3,4],[5,6]]\n",
    "print b"
   ]
  },
  {
   "cell_type": "code",
   "execution_count": 231,
   "metadata": {},
   "outputs": [
    {
     "name": "stdout",
     "output_type": "stream",
     "text": [
      "[[1 2]\n",
      " [3 4]\n",
      " [5 6]]\n"
     ]
    }
   ],
   "source": [
    "b = np.array([[1,2],[3,4],[5,6]])\n",
    "print b"
   ]
  },
  {
   "cell_type": "code",
   "execution_count": 232,
   "metadata": {},
   "outputs": [
    {
     "name": "stdout",
     "output_type": "stream",
     "text": [
      "[[1 3 5]\n",
      " [2 4 6]]\n"
     ]
    }
   ],
   "source": [
    "print b.T"
   ]
  },
  {
   "cell_type": "markdown",
   "metadata": {},
   "source": [
    "Note that numpy does have a np.matrix object that is slightly different from an array. For more information, visit: http://docs.scipy.org/doc/numpy/reference/generated/numpy.matrix.html"
   ]
  },
  {
   "cell_type": "markdown",
   "metadata": {},
   "source": [
    "Joining:"
   ]
  },
  {
   "cell_type": "code",
   "execution_count": 233,
   "metadata": {},
   "outputs": [],
   "source": [
    "t1=[1,2,3]\n",
    "t2=[3,4,5]"
   ]
  },
  {
   "cell_type": "code",
   "execution_count": 234,
   "metadata": {},
   "outputs": [
    {
     "data": {
      "text/plain": [
       "[1, 2, 3, 3, 4, 5]"
      ]
     },
     "execution_count": 234,
     "metadata": {},
     "output_type": "execute_result"
    }
   ],
   "source": [
    "t1+t2"
   ]
  },
  {
   "cell_type": "code",
   "execution_count": 235,
   "metadata": {},
   "outputs": [],
   "source": [
    "n1=np.array([1,2,3])\n",
    "n2=np.array([3,4,5])"
   ]
  },
  {
   "cell_type": "code",
   "execution_count": 236,
   "metadata": {},
   "outputs": [
    {
     "data": {
      "text/plain": [
       "array([4, 6, 8])"
      ]
     },
     "execution_count": 236,
     "metadata": {},
     "output_type": "execute_result"
    }
   ],
   "source": [
    "n1+n2"
   ]
  },
  {
   "cell_type": "code",
   "execution_count": 237,
   "metadata": {},
   "outputs": [
    {
     "data": {
      "text/plain": [
       "array([1, 2, 3, 3, 4, 5])"
      ]
     },
     "execution_count": 237,
     "metadata": {},
     "output_type": "execute_result"
    }
   ],
   "source": [
    "np.concatenate((n1,n2))"
   ]
  },
  {
   "cell_type": "markdown",
   "metadata": {},
   "source": [
    "One thing that you may want to do is convert the type of elements that are in an array."
   ]
  },
  {
   "cell_type": "code",
   "execution_count": 238,
   "metadata": {},
   "outputs": [
    {
     "name": "stdout",
     "output_type": "stream",
     "text": [
      "[1 2 6]\n",
      "[1. 2. 6.]\n"
     ]
    }
   ],
   "source": [
    "print np.array([1.3,2.4,6.7]).astype(np.int)\n",
    "print np.array([1,2,6]).astype(np.float16)"
   ]
  },
  {
   "cell_type": "markdown",
   "metadata": {},
   "source": [
    "##Be Careful:"
   ]
  },
  {
   "cell_type": "code",
   "execution_count": 239,
   "metadata": {},
   "outputs": [
    {
     "name": "stdout",
     "output_type": "stream",
     "text": [
      "1.0\n",
      "1.0\n",
      "True\n",
      "1.0\n",
      "2\n",
      "False\n"
     ]
    }
   ],
   "source": [
    "a = 1.0\n",
    "b = a\n",
    "print a\n",
    "print b\n",
    "print a == b\n",
    "b = 2\n",
    "print a\n",
    "print b\n",
    "print a == b"
   ]
  },
  {
   "cell_type": "markdown",
   "metadata": {},
   "source": [
    "##BUT"
   ]
  },
  {
   "cell_type": "code",
   "execution_count": 240,
   "metadata": {},
   "outputs": [
    {
     "name": "stdout",
     "output_type": "stream",
     "text": [
      "[1, 2, 3, 4]\n",
      "[1, 2, 3, 4]\n",
      "True\n",
      "[10, 2, 3, 4]\n",
      "[10, 2, 3, 4]\n",
      "True\n"
     ]
    }
   ],
   "source": [
    "a = [1,2,3,4]\n",
    "b = a\n",
    "print a\n",
    "print b\n",
    "print a==b\n",
    "b[0]=10\n",
    "print a\n",
    "print b\n",
    "print a==b"
   ]
  },
  {
   "cell_type": "markdown",
   "metadata": {},
   "source": [
    "##One solution:"
   ]
  },
  {
   "cell_type": "code",
   "execution_count": 241,
   "metadata": {},
   "outputs": [
    {
     "name": "stdout",
     "output_type": "stream",
     "text": [
      "[1, 2, 3, 4]\n",
      "[1, 2, 3, 4]\n",
      "True\n",
      "[1, 2, 3, 4]\n",
      "[10, 2, 3, 4]\n",
      "False\n"
     ]
    }
   ],
   "source": [
    "a = [1,2,3,4]\n",
    "b = a[:]\n",
    "print a\n",
    "print b\n",
    "print a==b\n",
    "b[0]=10\n",
    "print a\n",
    "print b\n",
    "print a==b"
   ]
  },
  {
   "cell_type": "markdown",
   "metadata": {},
   "source": [
    "###Another is with deepcopy or copy (see internet). I suggest numpy (np.copy())."
   ]
  },
  {
   "cell_type": "code",
   "execution_count": 242,
   "metadata": {},
   "outputs": [
    {
     "name": "stdout",
     "output_type": "stream",
     "text": [
      "[1, 2, 3, 4]\n",
      "[1 2 3 4]\n",
      "[ True  True  True  True]\n",
      "[1, 2, 3, 4]\n",
      "[10  2  3  4]\n",
      "[False  True  True  True]\n"
     ]
    }
   ],
   "source": [
    "a = [1,2,3,4]\n",
    "b = np.copy(a)\n",
    "print a\n",
    "print b\n",
    "print a==b\n",
    "b[0]=10\n",
    "print a\n",
    "print b\n",
    "print a==b"
   ]
  },
  {
   "cell_type": "markdown",
   "metadata": {},
   "source": [
    "##Trick"
   ]
  },
  {
   "cell_type": "code",
   "execution_count": 243,
   "metadata": {},
   "outputs": [],
   "source": [
    "list1=[1,2,3,4]\n",
    "list2=[4,5,6,7]"
   ]
  },
  {
   "cell_type": "code",
   "execution_count": 244,
   "metadata": {},
   "outputs": [],
   "source": [
    "list1,list2=list2,list1"
   ]
  },
  {
   "cell_type": "code",
   "execution_count": 245,
   "metadata": {},
   "outputs": [
    {
     "name": "stdout",
     "output_type": "stream",
     "text": [
      "[4, 5, 6, 7]\n",
      "[1, 2, 3, 4]\n"
     ]
    }
   ],
   "source": [
    "print list1\n",
    "print list2"
   ]
  },
  {
   "cell_type": "markdown",
   "metadata": {},
   "source": [
    "#LOOPING"
   ]
  },
  {
   "cell_type": "code",
   "execution_count": 246,
   "metadata": {},
   "outputs": [
    {
     "name": "stdout",
     "output_type": "stream",
     "text": [
      "[0, 1, 2, 3, 4, 5, 6, 7, 8, 9]\n",
      "xrange(10)\n"
     ]
    }
   ],
   "source": [
    "print range(10)\n",
    "print xrange(10)"
   ]
  },
  {
   "cell_type": "code",
   "execution_count": 247,
   "metadata": {},
   "outputs": [
    {
     "name": "stdout",
     "output_type": "stream",
     "text": [
      "0\n",
      "1\n",
      "2\n"
     ]
    }
   ],
   "source": [
    "for i in range(3):\n",
    "    print i"
   ]
  },
  {
   "cell_type": "code",
   "execution_count": 248,
   "metadata": {},
   "outputs": [
    {
     "name": "stdout",
     "output_type": "stream",
     "text": [
      "0\n",
      "1\n",
      "2\n"
     ]
    }
   ],
   "source": [
    "for i in xrange(3):\n",
    "    print i"
   ]
  },
  {
   "cell_type": "markdown",
   "metadata": {},
   "source": [
    "Looks like we are looping over the list"
   ]
  },
  {
   "cell_type": "code",
   "execution_count": 249,
   "metadata": {},
   "outputs": [
    {
     "name": "stdout",
     "output_type": "stream",
     "text": [
      "1\n",
      "1\n",
      "2\n",
      "3\n",
      "5\n",
      "8\n",
      "13\n",
      "21\n"
     ]
    }
   ],
   "source": [
    "candidates = [1,1,2,3,5,8,13,21]\n",
    "for candidate in candidates:\n",
    "    print candidate"
   ]
  },
  {
   "cell_type": "code",
   "execution_count": 250,
   "metadata": {},
   "outputs": [],
   "source": [
    "starwars=['The Phantom Menace','Attack of the Clones','Revenge of the Sith','A New Hope',\\\n",
    "          'The Empire Strikes Back', 'Return of the Jedi','The Force Awakens']"
   ]
  },
  {
   "cell_type": "code",
   "execution_count": 251,
   "metadata": {},
   "outputs": [
    {
     "name": "stdout",
     "output_type": "stream",
     "text": [
      "The Phantom Menace\n",
      "Attack of the Clones\n",
      "Revenge of the Sith\n",
      "A New Hope\n",
      "The Empire Strikes Back\n",
      "Return of the Jedi\n",
      "The Force Awakens\n"
     ]
    }
   ],
   "source": [
    "for movie in starwars:\n",
    "    print movie"
   ]
  },
  {
   "cell_type": "code",
   "execution_count": 252,
   "metadata": {},
   "outputs": [
    {
     "name": "stdout",
     "output_type": "stream",
     "text": [
      "[(0, 'The Phantom Menace'), (1, 'Attack of the Clones'), (2, 'Revenge of the Sith'), (3, 'A New Hope'), (4, 'The Empire Strikes Back'), (5, 'Return of the Jedi'), (6, 'The Force Awakens')]\n"
     ]
    }
   ],
   "source": [
    "enumerated=list(enumerate(starwars))\n",
    "print enumerated"
   ]
  },
  {
   "cell_type": "code",
   "execution_count": 253,
   "metadata": {},
   "outputs": [
    {
     "data": {
      "text/plain": [
       "(0, 'The Phantom Menace')"
      ]
     },
     "execution_count": 253,
     "metadata": {},
     "output_type": "execute_result"
    }
   ],
   "source": [
    "enumerated[0]"
   ]
  },
  {
   "cell_type": "markdown",
   "metadata": {},
   "source": [
    "# Functions"
   ]
  },
  {
   "cell_type": "code",
   "execution_count": 254,
   "metadata": {},
   "outputs": [],
   "source": [
    "def polynomial_1(x):\n",
    "    return x**3+x**2+x\n",
    "\n",
    "def polynomial_2(x,y):\n",
    "    return x*y-x**1.3-y\n",
    "\n",
    "def func_3(n_max):\n",
    "    yes = 0\n",
    "    no = 0\n",
    "    for i in xrange(n_max):\n",
    "        r = np.random.rand()\n",
    "        if r < 0.5:\n",
    "            yes = yes + 1\n",
    "        else: \n",
    "            no = no+1\n",
    "    return float(yes)/n_max"
   ]
  },
  {
   "cell_type": "code",
   "execution_count": 255,
   "metadata": {},
   "outputs": [
    {
     "name": "stdout",
     "output_type": "stream",
     "text": [
      "39.0\n",
      "-0.171167510948\n"
     ]
    }
   ],
   "source": [
    "print polynomial_1(3.)\n",
    "print polynomial_2(3.,2.0)"
   ]
  },
  {
   "cell_type": "code",
   "execution_count": 256,
   "metadata": {},
   "outputs": [
    {
     "data": {
      "text/plain": [
       "0.466"
      ]
     },
     "execution_count": 256,
     "metadata": {},
     "output_type": "execute_result"
    }
   ],
   "source": [
    "func_3(1000)"
   ]
  },
  {
   "cell_type": "code",
   "execution_count": 257,
   "metadata": {},
   "outputs": [
    {
     "name": "stdout",
     "output_type": "stream",
     "text": [
      "[0.         0.55555556 1.11111111 1.66666667 2.22222222 2.77777778\n",
      " 3.33333333 3.88888889 4.44444444 5.        ]\n",
      "[  0.           1.03566529   3.71742112   9.07407407  18.13443073\n",
      "  31.92729767  51.48148148  77.82578875 111.98902606 155.        ]\n"
     ]
    }
   ],
   "source": [
    "xs = np.linspace(0,5,10)\n",
    "print xs\n",
    "ys = polynomial_1(xs)\n",
    "print ys"
   ]
  },
  {
   "cell_type": "code",
   "execution_count": 258,
   "metadata": {},
   "outputs": [],
   "source": [
    "Numx, Numy = 100, 100\n",
    "x = np.linspace(0, 6, Numx)\n",
    "y = np.linspace(0, 6, Numy)\n",
    "xx, yy = np.meshgrid(x, y)"
   ]
  },
  {
   "cell_type": "code",
   "execution_count": 259,
   "metadata": {},
   "outputs": [],
   "source": [
    "z = polynomial_2(xx,yy)"
   ]
  },
  {
   "cell_type": "markdown",
   "metadata": {},
   "source": [
    "We can plot the function as a contour plot. We will focus more on plotting below."
   ]
  },
  {
   "cell_type": "code",
   "execution_count": 260,
   "metadata": {
    "scrolled": true
   },
   "outputs": [
    {
     "data": {
      "image/png": "[encoded data removed]",
      "text/plain": [
       "<Figure size 432x288 with 1 Axes>"
      ]
     },
     "metadata": {
      "needs_background": "light"
     },
     "output_type": "display_data"
    }
   ],
   "source": [
    "plt.contourf(x,y,z)\n",
    "plt.title('Contour Plot of Polynomial_2')\n",
    "plt.xlabel('x-value')\n",
    "plt.ylabel('y-value')\n",
    "plt.show()"
   ]
  },
  {
   "cell_type": "markdown",
   "metadata": {
    "collapsed": true
   },
   "source": [
    "#Tricks and Tips"
   ]
  },
  {
   "cell_type": "markdown",
   "metadata": {},
   "source": [
    "###Incrementing, etc"
   ]
  },
  {
   "cell_type": "code",
   "execution_count": 261,
   "metadata": {},
   "outputs": [
    {
     "name": "stdout",
     "output_type": "stream",
     "text": [
      "2\n"
     ]
    }
   ],
   "source": [
    "i = 1\n",
    "i+=1\n",
    "print i"
   ]
  },
  {
   "cell_type": "code",
   "execution_count": 262,
   "metadata": {},
   "outputs": [
    {
     "name": "stdout",
     "output_type": "stream",
     "text": [
      "8\n"
     ]
    }
   ],
   "source": [
    "j = 2\n",
    "j*=4\n",
    "print j"
   ]
  },
  {
   "cell_type": "code",
   "execution_count": 263,
   "metadata": {},
   "outputs": [
    {
     "name": "stdout",
     "output_type": "stream",
     "text": [
      "3.33333333333\n"
     ]
    }
   ],
   "source": [
    "k = 10.0\n",
    "k /= 3.0\n",
    "print k"
   ]
  },
  {
   "cell_type": "markdown",
   "metadata": {},
   "source": [
    "###plt.spy()"
   ]
  },
  {
   "cell_type": "markdown",
   "metadata": {},
   "source": [
    "The plt.spy() function can be very useful for quickly debugging code. It plots a matrix as either white or black depending if the corresponding element is a 0 or not. It can be useful in figuring out the general structure of a matrix."
   ]
  },
  {
   "cell_type": "code",
   "execution_count": 264,
   "metadata": {},
   "outputs": [
    {
     "name": "stdout",
     "output_type": "stream",
     "text": [
      "[[0. 0. 0.]\n",
      " [0. 0. 0.]\n",
      " [0. 0. 0.]]\n"
     ]
    }
   ],
   "source": [
    "a=np.zeros((3,3))\n",
    "print a"
   ]
  },
  {
   "cell_type": "code",
   "execution_count": 265,
   "metadata": {},
   "outputs": [],
   "source": [
    "for i in range(3):\n",
    "    x1,x2=np.random.randint(0,3),np.random.randint(0,3)\n",
    "    a[x1][x2]+=1"
   ]
  },
  {
   "cell_type": "code",
   "execution_count": 266,
   "metadata": {},
   "outputs": [
    {
     "data": {
      "text/plain": [
       "<matplotlib.image.AxesImage at 0x12ad2b210>"
      ]
     },
     "execution_count": 266,
     "metadata": {},
     "output_type": "execute_result"
    },
    {
     "data": {
      "image/png": "[encoded data removed]",
      "text/plain": [
       "<Figure size 432x288 with 1 Axes>"
      ]
     },
     "metadata": {
      "needs_background": "light"
     },
     "output_type": "display_data"
    }
   ],
   "source": [
    "plt.spy(a)"
   ]
  },
  {
   "cell_type": "markdown",
   "metadata": {},
   "source": [
    "Note that this is quite different from the function plt.imshow()"
   ]
  },
  {
   "cell_type": "code",
   "execution_count": 267,
   "metadata": {},
   "outputs": [],
   "source": [
    "for_imshow=np.array([[np.log(i*j*np.random.rand()+np.random.rand()) for j in xrange(100)] for i in xrange(100)])"
   ]
  },
  {
   "cell_type": "code",
   "execution_count": 268,
   "metadata": {},
   "outputs": [
    {
     "data": {
      "image/png": "[encoded data removed]",
      "text/plain": [
       "<Figure size 576x432 with 2 Axes>"
      ]
     },
     "metadata": {
      "needs_background": "light"
     },
     "output_type": "display_data"
    },
    {
     "data": {
      "image/png": "[encoded data removed]",
      "text/plain": [
       "<Figure size 432x432 with 2 Axes>"
      ]
     },
     "metadata": {
      "needs_background": "light"
     },
     "output_type": "display_data"
    }
   ],
   "source": [
    "plt.rcParams['figure.figsize'] = 8, 6\n",
    "PLOT = plt.imshow(for_imshow)\n",
    "plt.colorbar()\n",
    "plt.show()\n",
    "plt.rcParams['figure.figsize'] = 6, 6\n",
    "PLOT = plt.imshow(for_imshow)\n",
    "PLOT.set_cmap('hot')\n",
    "plt.colorbar()\n",
    "plt.show()"
   ]
  },
  {
   "cell_type": "code",
   "execution_count": 269,
   "metadata": {},
   "outputs": [
    {
     "data": {
      "image/png": "[encoded data removed]",
      "text/plain": [
       "<Figure size 576x432 with 2 Axes>"
      ]
     },
     "metadata": {
      "needs_background": "light"
     },
     "output_type": "display_data"
    }
   ],
   "source": [
    "plt.rcParams['figure.figsize'] = 8, 6\n",
    "PLOT = plt.imshow(for_imshow,interpolation='none')\n",
    "plt.colorbar()\n",
    "plt.show()"
   ]
  },
  {
   "cell_type": "markdown",
   "metadata": {},
   "source": [
    "###Can call a function recursively"
   ]
  },
  {
   "cell_type": "code",
   "execution_count": 270,
   "metadata": {},
   "outputs": [],
   "source": [
    "def factorial(n):\n",
    "    if n<1: \n",
    "        return 1\n",
    "    else:\n",
    "        tmp=n*factorial(n-1)\n",
    "        return tmp"
   ]
  },
  {
   "cell_type": "code",
   "execution_count": 271,
   "metadata": {},
   "outputs": [
    {
     "name": "stdout",
     "output_type": "stream",
     "text": [
      "1\n",
      "6\n"
     ]
    }
   ],
   "source": [
    "print factorial(1)\n",
    "print factorial(3)"
   ]
  },
  {
   "cell_type": "markdown",
   "metadata": {},
   "source": [
    "###Append can be slow"
   ]
  },
  {
   "cell_type": "code",
   "execution_count": 272,
   "metadata": {},
   "outputs": [],
   "source": [
    "import time as time"
   ]
  },
  {
   "cell_type": "code",
   "execution_count": 273,
   "metadata": {},
   "outputs": [
    {
     "name": "stdout",
     "output_type": "stream",
     "text": [
      "12.5185329914\n"
     ]
    }
   ],
   "source": [
    "N = 1e7\n",
    "append_version = []\n",
    "append_version2 = []\n",
    "t_o = time.time()\n",
    "for i in range(int(N)):\n",
    "    append_version.append(np.random.rand())\n",
    "    append_version2.append(np.random.rand())\n",
    "t_f = time.time()\n",
    "print t_f-t_o"
   ]
  },
  {
   "cell_type": "code",
   "execution_count": 274,
   "metadata": {},
   "outputs": [
    {
     "name": "stdout",
     "output_type": "stream",
     "text": [
      "12.2658569813\n"
     ]
    }
   ],
   "source": [
    "N = 1e7\n",
    "other = np.zeros(int(N))\n",
    "other2 = np.zeros(int(N))\n",
    "t_o = time.time()\n",
    "for i in range(int(N)):\n",
    "    other[i] = np.random.rand()\n",
    "    other2[i] = np.random.rand()\n",
    "t_f = time.time()\n",
    "print t_f-t_o"
   ]
  },
  {
   "cell_type": "markdown",
   "metadata": {},
   "source": [
    "On the internet you might see something like:"
   ]
  },
  {
   "cell_type": "code",
   "execution_count": 275,
   "metadata": {},
   "outputs": [
    {
     "name": "stdout",
     "output_type": "stream",
     "text": [
      "30\n"
     ]
    }
   ],
   "source": [
    "def f(x):\n",
    "    return x\n",
    "\n",
    "if __name__=='__main__':\n",
    "    print f(30)"
   ]
  },
  {
   "cell_type": "markdown",
   "metadata": {},
   "source": [
    "This construction can be very useful when dealing with larger packages where you have different functions in different files."
   ]
  },
  {
   "cell_type": "markdown",
   "metadata": {},
   "source": [
    "#Lambda Functions"
   ]
  },
  {
   "cell_type": "code",
   "execution_count": 276,
   "metadata": {},
   "outputs": [],
   "source": [
    "def f(x): \n",
    "    return x**4\n",
    "g = lambda x: x**4"
   ]
  },
  {
   "cell_type": "code",
   "execution_count": 277,
   "metadata": {},
   "outputs": [
    {
     "data": {
      "text/plain": [
       "256"
      ]
     },
     "execution_count": 277,
     "metadata": {},
     "output_type": "execute_result"
    }
   ],
   "source": [
    "f(4)"
   ]
  },
  {
   "cell_type": "code",
   "execution_count": 278,
   "metadata": {},
   "outputs": [
    {
     "data": {
      "text/plain": [
       "256"
      ]
     },
     "execution_count": 278,
     "metadata": {},
     "output_type": "execute_result"
    }
   ],
   "source": [
    "g(4)"
   ]
  },
  {
   "cell_type": "code",
   "execution_count": 279,
   "metadata": {},
   "outputs": [
    {
     "name": "stdout",
     "output_type": "stream",
     "text": [
      "[1, 4, 9, 16, 25, 36]\n"
     ]
    }
   ],
   "source": [
    "tmp = [1,2,3,4,5,6]\n",
    "print map(lambda x: x**2 , tmp)"
   ]
  },
  {
   "cell_type": "markdown",
   "metadata": {},
   "source": [
    "#Dictionaries"
   ]
  },
  {
   "cell_type": "code",
   "execution_count": 280,
   "metadata": {},
   "outputs": [
    {
     "name": "stdout",
     "output_type": "stream",
     "text": [
      "dictionary['Course']:  Math 162a\n",
      "dictionary['Instructor']:  Thomas Fai\n"
     ]
    }
   ],
   "source": [
    "dictionary = {'Course': 'Math 162a', 'Instructor': 'Thomas Fai', 'Book': 'Heath: Scientic Computing'}\n",
    "\n",
    "print \"dictionary['Course']: \", dictionary['Course']\n",
    "print \"dictionary['Instructor']: \", dictionary['Instructor']"
   ]
  },
  {
   "cell_type": "code",
   "execution_count": 281,
   "metadata": {},
   "outputs": [],
   "source": [
    "life_span = {'Tortoise': 255, 'Human': 122, 'Orca': 103, 'Lobster': 140 , 'Koi': 226,\\\n",
    "             'Cat': 38, 'Polar Bear':42 , 'Flamingo': 80}"
   ]
  },
  {
   "cell_type": "code",
   "execution_count": 282,
   "metadata": {},
   "outputs": [
    {
     "data": {
      "text/plain": [
       "['Koi',\n",
       " 'Flamingo',\n",
       " 'Lobster',\n",
       " 'Tortoise',\n",
       " 'Human',\n",
       " 'Polar Bear',\n",
       " 'Cat',\n",
       " 'Orca']"
      ]
     },
     "execution_count": 282,
     "metadata": {},
     "output_type": "execute_result"
    }
   ],
   "source": [
    "life_span.keys()"
   ]
  },
  {
   "cell_type": "code",
   "execution_count": 283,
   "metadata": {},
   "outputs": [
    {
     "data": {
      "text/plain": [
       "[226, 80, 140, 255, 122, 42, 38, 103]"
      ]
     },
     "execution_count": 283,
     "metadata": {},
     "output_type": "execute_result"
    }
   ],
   "source": [
    "life_span.values()"
   ]
  },
  {
   "cell_type": "code",
   "execution_count": 284,
   "metadata": {},
   "outputs": [
    {
     "data": {
      "text/plain": [
       "42"
      ]
     },
     "execution_count": 284,
     "metadata": {},
     "output_type": "execute_result"
    }
   ],
   "source": [
    "life_span['Polar Bear']"
   ]
  },
  {
   "cell_type": "markdown",
   "metadata": {},
   "source": [
    "What if we want to add a new element?"
   ]
  },
  {
   "cell_type": "code",
   "execution_count": 285,
   "metadata": {},
   "outputs": [],
   "source": [
    "life_span['Alligator'] = 80"
   ]
  },
  {
   "cell_type": "code",
   "execution_count": 286,
   "metadata": {},
   "outputs": [
    {
     "data": {
      "text/plain": [
       "{'Alligator': 80,\n",
       " 'Cat': 38,\n",
       " 'Flamingo': 80,\n",
       " 'Human': 122,\n",
       " 'Koi': 226,\n",
       " 'Lobster': 140,\n",
       " 'Orca': 103,\n",
       " 'Polar Bear': 42,\n",
       " 'Tortoise': 255}"
      ]
     },
     "execution_count": 286,
     "metadata": {},
     "output_type": "execute_result"
    }
   ],
   "source": [
    "life_span"
   ]
  },
  {
   "cell_type": "markdown",
   "metadata": {},
   "source": [
    "#While Loops via Gradient Descent"
   ]
  },
  {
   "cell_type": "markdown",
   "metadata": {},
   "source": [
    "One common theme of this course is that we would like to continue a procedure until the error is below some prescribed value. To give a simple example of how to do this, let's consider a simple greedy, gradient descent algorithm."
   ]
  },
  {
   "cell_type": "markdown",
   "metadata": {},
   "source": [
    "First, we define a simple function that we would like to find the minimum of."
   ]
  },
  {
   "cell_type": "code",
   "execution_count": 287,
   "metadata": {},
   "outputs": [],
   "source": [
    "def f(x):\n",
    "    return x**2+(x)-5*x-3\n",
    "def df(x):\n",
    "    return 2*x+1-5"
   ]
  },
  {
   "cell_type": "markdown",
   "metadata": {},
   "source": [
    "We setup an array of $x$-values to consider."
   ]
  },
  {
   "cell_type": "code",
   "execution_count": 288,
   "metadata": {},
   "outputs": [],
   "source": [
    "xs=np.linspace(-4,10,100)"
   ]
  },
  {
   "cell_type": "markdown",
   "metadata": {},
   "source": [
    "and we evaluate the function at all the $x$s."
   ]
  },
  {
   "cell_type": "code",
   "execution_count": 289,
   "metadata": {},
   "outputs": [],
   "source": [
    "ys=f(xs)"
   ]
  },
  {
   "cell_type": "markdown",
   "metadata": {},
   "source": [
    "Next, we simply plot the function."
   ]
  },
  {
   "cell_type": "code",
   "execution_count": 290,
   "metadata": {},
   "outputs": [
    {
     "data": {
      "text/plain": [
       "[<matplotlib.lines.Line2D at 0x13009abd0>]"
      ]
     },
     "execution_count": 290,
     "metadata": {},
     "output_type": "execute_result"
    },
    {
     "data": {
      "image/png": "[encoded data removed]",
      "text/plain": [
       "<Figure size 576x432 with 1 Axes>"
      ]
     },
     "metadata": {
      "needs_background": "light"
     },
     "output_type": "display_data"
    }
   ],
   "source": [
    "plt.plot(xs,ys,'r-')"
   ]
  },
  {
   "cell_type": "code",
   "execution_count": 291,
   "metadata": {},
   "outputs": [],
   "source": [
    "#setup a tolerance we will accept\n",
    "error = 1e-6"
   ]
  },
  {
   "cell_type": "code",
   "execution_count": 292,
   "metadata": {},
   "outputs": [
    {
     "name": "stdout",
     "output_type": "stream",
     "text": [
      "Local minimum occurs at 1.99999654565\n",
      "It took 59 iterations\n"
     ]
    }
   ],
   "source": [
    "start = 0\n",
    "current = 14*np.random.rand()-4\n",
    "error = 1e-6\n",
    "alpha = 0.1\n",
    "iteration = 0\n",
    "\n",
    "while abs(current - start) > error:\n",
    "    start = current\n",
    "    current = start - alpha * df(start)\n",
    "    iteration+=1\n",
    "\n",
    "print \"Local minimum occurs at\", current\n",
    "print \"It took %d iterations\" %iteration"
   ]
  },
  {
   "cell_type": "markdown",
   "metadata": {},
   "source": [
    "#Example: Pi a la Monte Carlo"
   ]
  },
  {
   "cell_type": "code",
   "execution_count": 293,
   "metadata": {},
   "outputs": [],
   "source": [
    "#Define variables\n",
    "N = 10000 #number of samples"
   ]
  },
  {
   "cell_type": "code",
   "execution_count": 294,
   "metadata": {},
   "outputs": [],
   "source": [
    "xs = np.random.rand(N)\n",
    "ys = np.random.rand(N)\n",
    "\n",
    "#Using append is not very fast, but it is very readable\n",
    "#and, in this case, it is fast enough\n",
    "\n",
    "inside = []\n",
    "outside = []\n",
    "\n",
    "#We want to check if the value is inside or outside\n",
    "for i in range(N):\n",
    "    if xs[i]**2+ys[i]**2<=1:\n",
    "        inside.append([xs[i],ys[i]])\n",
    "    else:\n",
    "        outside.append([xs[i],ys[i]])"
   ]
  },
  {
   "cell_type": "code",
   "execution_count": 295,
   "metadata": {},
   "outputs": [],
   "source": [
    "[x1,x2] = np.array(inside).T\n",
    "[x3,x4] = np.array(outside).T"
   ]
  },
  {
   "cell_type": "code",
   "execution_count": 296,
   "metadata": {},
   "outputs": [
    {
     "data": {
      "image/png": "[encoded data removed]",
      "text/plain": [
       "<Figure size 576x576 with 1 Axes>"
      ]
     },
     "metadata": {
      "needs_background": "light"
     },
     "output_type": "display_data"
    }
   ],
   "source": [
    "fig = plt.figure(figsize=(8, 8))\n",
    "ax = fig.add_subplot(111)\n",
    "ax.set_aspect('equal')\n",
    "ax.plot(x1,x2,'ro',label='Inside')\n",
    "ax.plot(x3,x4,'bo',label='Outsde')\n",
    "legend = plt.legend()\n",
    "frame = legend.get_frame()\n",
    "frame.set_facecolor('1')\n",
    "#plt.legend(loc='best')\n",
    "plt.show()"
   ]
  },
  {
   "cell_type": "code",
   "execution_count": 297,
   "metadata": {},
   "outputs": [],
   "source": [
    "def mc_pi(N):\n",
    "    xs = np.random.rand(N)\n",
    "    ys = np.random.rand(N)\n",
    "\n",
    "    #Using append is not very fast, but it is very readable\n",
    "    #and in this case, it is fast enough\n",
    "\n",
    "    inside = []\n",
    "    outside = []\n",
    "\n",
    "    #We want to check if the value is inside or outside\n",
    "    for i in range(N):\n",
    "        if xs[i]**2+ys[i]**2<=1:\n",
    "            inside.append([xs[i],ys[i]])\n",
    "        else:\n",
    "            outside.append([xs[i],ys[i]])\n",
    "    return 4*len(inside)/float(N)"
   ]
  },
  {
   "cell_type": "code",
   "execution_count": 298,
   "metadata": {},
   "outputs": [
    {
     "name": "stdout",
     "output_type": "stream",
     "text": [
      "[1000000  828642  686648  568986  471486  390693  323745  268269  222299\n",
      "  184206  152641  126485  104811   86851   71968   59636   49417   40949\n",
      "   33932   28117   23299   19306   15998   13257   10985    9102    7543\n",
      "    6250    5179    4291    3556    2947    2442    2023    1676    1389\n",
      "    1151     954     790     655     542     449     372     308     255\n",
      "     212     175     145     120     100]\n"
     ]
    }
   ],
   "source": [
    "log_space = np.logspace(6,2).astype(int)\n",
    "print log_space"
   ]
  },
  {
   "cell_type": "code",
   "execution_count": 299,
   "metadata": {},
   "outputs": [],
   "source": [
    "pi_vals = np.zeros(len(log_space))"
   ]
  },
  {
   "cell_type": "code",
   "execution_count": 300,
   "metadata": {},
   "outputs": [],
   "source": [
    "for i in xrange(len(log_space)):\n",
    "    pi_vals[i] = mc_pi(log_space[i])"
   ]
  },
  {
   "cell_type": "code",
   "execution_count": 301,
   "metadata": {},
   "outputs": [
    {
     "data": {
      "text/plain": [
       "[<matplotlib.lines.Line2D at 0x130540410>]"
      ]
     },
     "execution_count": 301,
     "metadata": {},
     "output_type": "execute_result"
    },
    {
     "data": {
      "image/png": "[encoded data removed]",
      "text/plain": [
       "<Figure size 576x432 with 1 Axes>"
      ]
     },
     "metadata": {
      "needs_background": "light"
     },
     "output_type": "display_data"
    }
   ],
   "source": [
    "plt.plot(log_space,abs((pi_vals-np.pi))/np.pi)"
   ]
  },
  {
   "cell_type": "code",
   "execution_count": 302,
   "metadata": {},
   "outputs": [
    {
     "data": {
      "text/plain": [
       "[<matplotlib.lines.Line2D at 0x10da5c690>]"
      ]
     },
     "execution_count": 302,
     "metadata": {},
     "output_type": "execute_result"
    },
    {
     "data": {
      "image/png": "[encoded data removed]",
      "text/plain": [
       "<Figure size 576x432 with 1 Axes>"
      ]
     },
     "metadata": {
      "needs_background": "light"
     },
     "output_type": "display_data"
    }
   ],
   "source": [
    "plt.loglog(log_space,abs((pi_vals-np.pi))/np.pi)"
   ]
  },
  {
   "cell_type": "markdown",
   "metadata": {},
   "source": [
    "##Thanks!"
   ]
  }
 ],
 "metadata": {
  "kernelspec": {
   "display_name": "Python 2",
   "language": "python",
   "name": "python2"
  },
  "language_info": {
   "codemirror_mode": {
    "name": "ipython",
    "version": 2
   },
   "file_extension": ".py",
   "mimetype": "text/x-python",
   "name": "python",
   "nbconvert_exporter": "python",
   "pygments_lexer": "ipython2",
   "version": "2.7.15"
  }
 },
 "nbformat": 4,
 "nbformat_minor": 1
}
